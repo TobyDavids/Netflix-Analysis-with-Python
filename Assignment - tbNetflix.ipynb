{
 "cells": [
  {
   "cell_type": "code",
   "execution_count": 3,
   "id": "W-B2rvmt9Zv9",
   "metadata": {
    "colab": {
     "base_uri": "https://localhost:8080/"
    },
    "executionInfo": {
     "elapsed": 12986,
     "status": "ok",
     "timestamp": 1748967644757,
     "user": {
      "displayName": "OLUWATOBI AFINTINNI",
      "userId": "05381180940816213032"
     },
     "user_tz": -60
    },
    "id": "W-B2rvmt9Zv9",
    "outputId": "3e0de544-4021-45fc-973d-ccd6b71d4020"
   },
   "outputs": [
    {
     "name": "stdout",
     "output_type": "stream",
     "text": [
      "Mounted at /content/drive\n"
     ]
    }
   ],
   "source": [
    "#from google.colab import drive\n",
    "#drive.mount('/content/drive')"
   ]
  },
  {
   "cell_type": "code",
   "execution_count": 1,
   "id": "841f6293-e19a-4470-be19-7fb8dde2482d",
   "metadata": {
    "executionInfo": {
     "elapsed": 3075,
     "status": "ok",
     "timestamp": 1748967653156,
     "user": {
      "displayName": "OLUWATOBI AFINTINNI",
      "userId": "05381180940816213032"
     },
     "user_tz": -60
    },
    "id": "841f6293-e19a-4470-be19-7fb8dde2482d"
   },
   "outputs": [],
   "source": [
    "import pandas as pd\n",
    "import numpy as np\n",
    "import seaborn as sns\n",
    "import matplotlib.pyplot as plt"
   ]
  },
  {
   "cell_type": "code",
   "execution_count": 2,
   "id": "j99Ma-kLSrsf",
   "metadata": {
    "executionInfo": {
     "elapsed": 985,
     "status": "ok",
     "timestamp": 1748967659579,
     "user": {
      "displayName": "OLUWATOBI AFINTINNI",
      "userId": "05381180940816213032"
     },
     "user_tz": -60
    },
    "id": "j99Ma-kLSrsf"
   },
   "outputs": [],
   "source": [
    "df = pd.read_csv('netflix.csv')"
   ]
  },
  {
   "cell_type": "code",
   "execution_count": 3,
   "id": "98ad1181-4f53-4fd9-a91f-f94965d734d2",
   "metadata": {
    "colab": {
     "base_uri": "https://localhost:8080/"
    },
    "executionInfo": {
     "elapsed": 77,
     "status": "ok",
     "timestamp": 1748967659665,
     "user": {
      "displayName": "OLUWATOBI AFINTINNI",
      "userId": "05381180940816213032"
     },
     "user_tz": -60
    },
    "id": "98ad1181-4f53-4fd9-a91f-f94965d734d2",
    "outputId": "460a0988-191f-4c3e-9c61-4a5a608c8356"
   },
   "outputs": [
    {
     "name": "stdout",
     "output_type": "stream",
     "text": [
      "<class 'pandas.core.frame.DataFrame'>\n",
      "RangeIndex: 4812 entries, 0 to 4811\n",
      "Data columns (total 11 columns):\n",
      " #   Column        Non-Null Count  Dtype \n",
      "---  ------        --------------  ----- \n",
      " 0   show_id       4812 non-null   object\n",
      " 1   type          4812 non-null   object\n",
      " 2   title         4812 non-null   object\n",
      " 3   director      4812 non-null   object\n",
      " 4   cast          4812 non-null   object\n",
      " 5   country       4812 non-null   object\n",
      " 6   date_added    4812 non-null   object\n",
      " 7   release_year  4812 non-null   int64 \n",
      " 8   duration      4812 non-null   int64 \n",
      " 9   description   4812 non-null   object\n",
      " 10  genre         4812 non-null   object\n",
      "dtypes: int64(2), object(9)\n",
      "memory usage: 413.7+ KB\n"
     ]
    }
   ],
   "source": [
    "df.info()"
   ]
  },
  {
   "cell_type": "code",
   "execution_count": 4,
   "id": "a5343bfe-d8b4-4830-a922-fdbb6d5a0c5b",
   "metadata": {
    "colab": {
     "base_uri": "https://localhost:8080/",
     "height": 625
    },
    "executionInfo": {
     "elapsed": 148,
     "status": "ok",
     "timestamp": 1748967863655,
     "user": {
      "displayName": "OLUWATOBI AFINTINNI",
      "userId": "05381180940816213032"
     },
     "user_tz": -60
    },
    "id": "a5343bfe-d8b4-4830-a922-fdbb6d5a0c5b",
    "outputId": "c85bd773-ae8a-4e21-dfcc-e64070aa98d3"
   },
   "outputs": [
    {
     "data": {
      "text/html": [
       "<div>\n",
       "<style scoped>\n",
       "    .dataframe tbody tr th:only-of-type {\n",
       "        vertical-align: middle;\n",
       "    }\n",
       "\n",
       "    .dataframe tbody tr th {\n",
       "        vertical-align: top;\n",
       "    }\n",
       "\n",
       "    .dataframe thead th {\n",
       "        text-align: right;\n",
       "    }\n",
       "</style>\n",
       "<table border=\"1\" class=\"dataframe\">\n",
       "  <thead>\n",
       "    <tr style=\"text-align: right;\">\n",
       "      <th></th>\n",
       "      <th>show_id</th>\n",
       "      <th>type</th>\n",
       "      <th>title</th>\n",
       "      <th>director</th>\n",
       "      <th>cast</th>\n",
       "      <th>country</th>\n",
       "      <th>date_added</th>\n",
       "      <th>release_year</th>\n",
       "      <th>duration</th>\n",
       "      <th>description</th>\n",
       "      <th>genre</th>\n",
       "    </tr>\n",
       "  </thead>\n",
       "  <tbody>\n",
       "    <tr>\n",
       "      <th>0</th>\n",
       "      <td>s2</td>\n",
       "      <td>Movie</td>\n",
       "      <td>7:19</td>\n",
       "      <td>Jorge Michel Grau</td>\n",
       "      <td>\"Demián Bichir, Héctor Bonilla, Oscar Serrano,...</td>\n",
       "      <td>Mexico</td>\n",
       "      <td>\"December 23, 2016\"</td>\n",
       "      <td>2016</td>\n",
       "      <td>93</td>\n",
       "      <td>\"After a devastating earthquake hits Mexico Ci...</td>\n",
       "      <td>Dramas</td>\n",
       "    </tr>\n",
       "    <tr>\n",
       "      <th>1</th>\n",
       "      <td>s3</td>\n",
       "      <td>Movie</td>\n",
       "      <td>23:59</td>\n",
       "      <td>Gilbert Chan</td>\n",
       "      <td>\"Tedd Chan, Stella Chung, Henley Hii, Lawrence...</td>\n",
       "      <td>Singapore</td>\n",
       "      <td>\"December 20, 2018\"</td>\n",
       "      <td>2011</td>\n",
       "      <td>78</td>\n",
       "      <td>\"When an army recruit is found dead, his fello...</td>\n",
       "      <td>Horror Movies</td>\n",
       "    </tr>\n",
       "    <tr>\n",
       "      <th>2</th>\n",
       "      <td>s4</td>\n",
       "      <td>Movie</td>\n",
       "      <td>9</td>\n",
       "      <td>Shane Acker</td>\n",
       "      <td>\"Elijah Wood, John C. Reilly, Jennifer Connell...</td>\n",
       "      <td>United States</td>\n",
       "      <td>\"November 16, 2017\"</td>\n",
       "      <td>2009</td>\n",
       "      <td>80</td>\n",
       "      <td>\"In a postapocalyptic world, rag-doll robots h...</td>\n",
       "      <td>Action</td>\n",
       "    </tr>\n",
       "    <tr>\n",
       "      <th>3</th>\n",
       "      <td>s5</td>\n",
       "      <td>Movie</td>\n",
       "      <td>21</td>\n",
       "      <td>Robert Luketic</td>\n",
       "      <td>\"Jim Sturgess, Kevin Spacey, Kate Bosworth, Aa...</td>\n",
       "      <td>United States</td>\n",
       "      <td>\"January 1, 2020\"</td>\n",
       "      <td>2008</td>\n",
       "      <td>123</td>\n",
       "      <td>A brilliant group of students become card-coun...</td>\n",
       "      <td>Dramas</td>\n",
       "    </tr>\n",
       "    <tr>\n",
       "      <th>4</th>\n",
       "      <td>s6</td>\n",
       "      <td>TV Show</td>\n",
       "      <td>46</td>\n",
       "      <td>Serdar Akar</td>\n",
       "      <td>\"Erdal Beşikçioğlu, Yasemin Allen, Melis Birka...</td>\n",
       "      <td>Turkey</td>\n",
       "      <td>\"July 1, 2017\"</td>\n",
       "      <td>2016</td>\n",
       "      <td>1</td>\n",
       "      <td>\"A genetics professor experiments with a treat...</td>\n",
       "      <td>International TV</td>\n",
       "    </tr>\n",
       "  </tbody>\n",
       "</table>\n",
       "</div>"
      ],
      "text/plain": [
       "  show_id     type  title           director  \\\n",
       "0      s2    Movie   7:19  Jorge Michel Grau   \n",
       "1      s3    Movie  23:59       Gilbert Chan   \n",
       "2      s4    Movie      9        Shane Acker   \n",
       "3      s5    Movie     21     Robert Luketic   \n",
       "4      s6  TV Show     46        Serdar Akar   \n",
       "\n",
       "                                                cast        country  \\\n",
       "0  \"Demián Bichir, Héctor Bonilla, Oscar Serrano,...         Mexico   \n",
       "1  \"Tedd Chan, Stella Chung, Henley Hii, Lawrence...      Singapore   \n",
       "2  \"Elijah Wood, John C. Reilly, Jennifer Connell...  United States   \n",
       "3  \"Jim Sturgess, Kevin Spacey, Kate Bosworth, Aa...  United States   \n",
       "4  \"Erdal Beşikçioğlu, Yasemin Allen, Melis Birka...         Turkey   \n",
       "\n",
       "            date_added  release_year  duration  \\\n",
       "0  \"December 23, 2016\"          2016        93   \n",
       "1  \"December 20, 2018\"          2011        78   \n",
       "2  \"November 16, 2017\"          2009        80   \n",
       "3    \"January 1, 2020\"          2008       123   \n",
       "4       \"July 1, 2017\"          2016         1   \n",
       "\n",
       "                                         description             genre  \n",
       "0  \"After a devastating earthquake hits Mexico Ci...            Dramas  \n",
       "1  \"When an army recruit is found dead, his fello...     Horror Movies  \n",
       "2  \"In a postapocalyptic world, rag-doll robots h...            Action  \n",
       "3  A brilliant group of students become card-coun...            Dramas  \n",
       "4  \"A genetics professor experiments with a treat...  International TV  "
      ]
     },
     "execution_count": 4,
     "metadata": {},
     "output_type": "execute_result"
    }
   ],
   "source": [
    "#Lets check for the first few rows. We see we need to remove the double quotes from some columns\n",
    "df.head()"
   ]
  },
  {
   "cell_type": "code",
   "execution_count": 5,
   "id": "abfc285e-4bf3-4db4-a9ab-1f9922d375fe",
   "metadata": {
    "colab": {
     "base_uri": "https://localhost:8080/"
    },
    "executionInfo": {
     "elapsed": 1210,
     "status": "ok",
     "timestamp": 1748967871876,
     "user": {
      "displayName": "OLUWATOBI AFINTINNI",
      "userId": "05381180940816213032"
     },
     "user_tz": -60
    },
    "id": "abfc285e-4bf3-4db4-a9ab-1f9922d375fe",
    "outputId": "d6e74d78-f242-45f3-8321-6e55d23d90ec"
   },
   "outputs": [
    {
     "data": {
      "text/plain": [
       "0"
      ]
     },
     "execution_count": 5,
     "metadata": {},
     "output_type": "execute_result"
    }
   ],
   "source": [
    "#Lets check for Duplicates\n",
    "df.duplicated().sum()"
   ]
  },
  {
   "cell_type": "code",
   "execution_count": 6,
   "id": "58819dea-6536-4cb0-a1f7-220eadc7aba3",
   "metadata": {
    "colab": {
     "base_uri": "https://localhost:8080/"
    },
    "executionInfo": {
     "elapsed": 179,
     "status": "ok",
     "timestamp": 1748967874802,
     "user": {
      "displayName": "OLUWATOBI AFINTINNI",
      "userId": "05381180940816213032"
     },
     "user_tz": -60
    },
    "id": "58819dea-6536-4cb0-a1f7-220eadc7aba3",
    "outputId": "29280e88-fe49-4ff5-853e-e48d9c83977f"
   },
   "outputs": [
    {
     "data": {
      "text/plain": [
       "(4812, 11)"
      ]
     },
     "execution_count": 6,
     "metadata": {},
     "output_type": "execute_result"
    }
   ],
   "source": [
    "#Lets check the structure of our data\n",
    "df.shape"
   ]
  },
  {
   "cell_type": "code",
   "execution_count": 7,
   "id": "6e346ead-a2bc-4d59-a064-1d9df4c40388",
   "metadata": {
    "colab": {
     "base_uri": "https://localhost:8080/"
    },
    "executionInfo": {
     "elapsed": 46,
     "status": "ok",
     "timestamp": 1748967874926,
     "user": {
      "displayName": "OLUWATOBI AFINTINNI",
      "userId": "05381180940816213032"
     },
     "user_tz": -60
    },
    "id": "6e346ead-a2bc-4d59-a064-1d9df4c40388",
    "outputId": "61f53c5f-b4fb-4e4b-d68e-472c11522ed6"
   },
   "outputs": [
    {
     "data": {
      "text/plain": [
       "4812"
      ]
     },
     "execution_count": 7,
     "metadata": {},
     "output_type": "execute_result"
    }
   ],
   "source": [
    "#Lets see how many unique records we have of show_id column\n",
    "df['show_id'].nunique()"
   ]
  },
  {
   "cell_type": "code",
   "execution_count": 8,
   "id": "7c48cecc-4ecd-429d-ab19-f0117f5c8b3b",
   "metadata": {
    "executionInfo": {
     "elapsed": 4,
     "status": "ok",
     "timestamp": 1748967880985,
     "user": {
      "displayName": "OLUWATOBI AFINTINNI",
      "userId": "05381180940816213032"
     },
     "user_tz": -60
    },
    "id": "7c48cecc-4ecd-429d-ab19-f0117f5c8b3b"
   },
   "outputs": [],
   "source": [
    "#Lets create a copy as we need to perform some data manipulation on some columns\n",
    "netflix = df.copy()"
   ]
  },
  {
   "cell_type": "code",
   "execution_count": 9,
   "id": "67cc1cc5-3555-40a4-8118-dd1e478ca288",
   "metadata": {
    "colab": {
     "base_uri": "https://localhost:8080/",
     "height": 625
    },
    "executionInfo": {
     "elapsed": 28,
     "status": "ok",
     "timestamp": 1748967883404,
     "user": {
      "displayName": "OLUWATOBI AFINTINNI",
      "userId": "05381180940816213032"
     },
     "user_tz": -60
    },
    "id": "67cc1cc5-3555-40a4-8118-dd1e478ca288",
    "outputId": "8cd5d5cb-4725-409a-a619-7409c90a6a72"
   },
   "outputs": [
    {
     "data": {
      "text/html": [
       "<div>\n",
       "<style scoped>\n",
       "    .dataframe tbody tr th:only-of-type {\n",
       "        vertical-align: middle;\n",
       "    }\n",
       "\n",
       "    .dataframe tbody tr th {\n",
       "        vertical-align: top;\n",
       "    }\n",
       "\n",
       "    .dataframe thead th {\n",
       "        text-align: right;\n",
       "    }\n",
       "</style>\n",
       "<table border=\"1\" class=\"dataframe\">\n",
       "  <thead>\n",
       "    <tr style=\"text-align: right;\">\n",
       "      <th></th>\n",
       "      <th>show_id</th>\n",
       "      <th>type</th>\n",
       "      <th>title</th>\n",
       "      <th>director</th>\n",
       "      <th>cast</th>\n",
       "      <th>country</th>\n",
       "      <th>date_added</th>\n",
       "      <th>release_year</th>\n",
       "      <th>duration</th>\n",
       "      <th>description</th>\n",
       "      <th>genre</th>\n",
       "    </tr>\n",
       "  </thead>\n",
       "  <tbody>\n",
       "    <tr>\n",
       "      <th>0</th>\n",
       "      <td>s2</td>\n",
       "      <td>Movie</td>\n",
       "      <td>7:19</td>\n",
       "      <td>Jorge Michel Grau</td>\n",
       "      <td>\"Demián Bichir, Héctor Bonilla, Oscar Serrano,...</td>\n",
       "      <td>Mexico</td>\n",
       "      <td>\"December 23, 2016\"</td>\n",
       "      <td>2016</td>\n",
       "      <td>93</td>\n",
       "      <td>\"After a devastating earthquake hits Mexico Ci...</td>\n",
       "      <td>Dramas</td>\n",
       "    </tr>\n",
       "    <tr>\n",
       "      <th>1</th>\n",
       "      <td>s3</td>\n",
       "      <td>Movie</td>\n",
       "      <td>23:59</td>\n",
       "      <td>Gilbert Chan</td>\n",
       "      <td>\"Tedd Chan, Stella Chung, Henley Hii, Lawrence...</td>\n",
       "      <td>Singapore</td>\n",
       "      <td>\"December 20, 2018\"</td>\n",
       "      <td>2011</td>\n",
       "      <td>78</td>\n",
       "      <td>\"When an army recruit is found dead, his fello...</td>\n",
       "      <td>Horror Movies</td>\n",
       "    </tr>\n",
       "    <tr>\n",
       "      <th>2</th>\n",
       "      <td>s4</td>\n",
       "      <td>Movie</td>\n",
       "      <td>9</td>\n",
       "      <td>Shane Acker</td>\n",
       "      <td>\"Elijah Wood, John C. Reilly, Jennifer Connell...</td>\n",
       "      <td>United States</td>\n",
       "      <td>\"November 16, 2017\"</td>\n",
       "      <td>2009</td>\n",
       "      <td>80</td>\n",
       "      <td>\"In a postapocalyptic world, rag-doll robots h...</td>\n",
       "      <td>Action</td>\n",
       "    </tr>\n",
       "    <tr>\n",
       "      <th>3</th>\n",
       "      <td>s5</td>\n",
       "      <td>Movie</td>\n",
       "      <td>21</td>\n",
       "      <td>Robert Luketic</td>\n",
       "      <td>\"Jim Sturgess, Kevin Spacey, Kate Bosworth, Aa...</td>\n",
       "      <td>United States</td>\n",
       "      <td>\"January 1, 2020\"</td>\n",
       "      <td>2008</td>\n",
       "      <td>123</td>\n",
       "      <td>A brilliant group of students become card-coun...</td>\n",
       "      <td>Dramas</td>\n",
       "    </tr>\n",
       "    <tr>\n",
       "      <th>4</th>\n",
       "      <td>s6</td>\n",
       "      <td>TV Show</td>\n",
       "      <td>46</td>\n",
       "      <td>Serdar Akar</td>\n",
       "      <td>\"Erdal Beşikçioğlu, Yasemin Allen, Melis Birka...</td>\n",
       "      <td>Turkey</td>\n",
       "      <td>\"July 1, 2017\"</td>\n",
       "      <td>2016</td>\n",
       "      <td>1</td>\n",
       "      <td>\"A genetics professor experiments with a treat...</td>\n",
       "      <td>International TV</td>\n",
       "    </tr>\n",
       "  </tbody>\n",
       "</table>\n",
       "</div>"
      ],
      "text/plain": [
       "  show_id     type  title           director  \\\n",
       "0      s2    Movie   7:19  Jorge Michel Grau   \n",
       "1      s3    Movie  23:59       Gilbert Chan   \n",
       "2      s4    Movie      9        Shane Acker   \n",
       "3      s5    Movie     21     Robert Luketic   \n",
       "4      s6  TV Show     46        Serdar Akar   \n",
       "\n",
       "                                                cast        country  \\\n",
       "0  \"Demián Bichir, Héctor Bonilla, Oscar Serrano,...         Mexico   \n",
       "1  \"Tedd Chan, Stella Chung, Henley Hii, Lawrence...      Singapore   \n",
       "2  \"Elijah Wood, John C. Reilly, Jennifer Connell...  United States   \n",
       "3  \"Jim Sturgess, Kevin Spacey, Kate Bosworth, Aa...  United States   \n",
       "4  \"Erdal Beşikçioğlu, Yasemin Allen, Melis Birka...         Turkey   \n",
       "\n",
       "            date_added  release_year  duration  \\\n",
       "0  \"December 23, 2016\"          2016        93   \n",
       "1  \"December 20, 2018\"          2011        78   \n",
       "2  \"November 16, 2017\"          2009        80   \n",
       "3    \"January 1, 2020\"          2008       123   \n",
       "4       \"July 1, 2017\"          2016         1   \n",
       "\n",
       "                                         description             genre  \n",
       "0  \"After a devastating earthquake hits Mexico Ci...            Dramas  \n",
       "1  \"When an army recruit is found dead, his fello...     Horror Movies  \n",
       "2  \"In a postapocalyptic world, rag-doll robots h...            Action  \n",
       "3  A brilliant group of students become card-coun...            Dramas  \n",
       "4  \"A genetics professor experiments with a treat...  International TV  "
      ]
     },
     "execution_count": 9,
     "metadata": {},
     "output_type": "execute_result"
    }
   ],
   "source": [
    "netflix.head()"
   ]
  },
  {
   "cell_type": "code",
   "execution_count": 10,
   "id": "c1035e28",
   "metadata": {
    "executionInfo": {
     "elapsed": 360,
     "status": "ok",
     "timestamp": 1748967883777,
     "user": {
      "displayName": "OLUWATOBI AFINTINNI",
      "userId": "05381180940816213032"
     },
     "user_tz": -60
    },
    "id": "c1035e28"
   },
   "outputs": [],
   "source": [
    "#We have to pull out the needed columns into a list\n",
    "needed_cols = ['cast', 'date_added', 'description']"
   ]
  },
  {
   "cell_type": "code",
   "execution_count": 11,
   "id": "6497bbb3-d752-48af-b6d6-5ae1a012eb87",
   "metadata": {
    "executionInfo": {
     "elapsed": 3,
     "status": "ok",
     "timestamp": 1748967887148,
     "user": {
      "displayName": "OLUWATOBI AFINTINNI",
      "userId": "05381180940816213032"
     },
     "user_tz": -60
    },
    "id": "6497bbb3-d752-48af-b6d6-5ae1a012eb87"
   },
   "outputs": [],
   "source": [
    "#Using a for loop to replace the double quotes with an empty string\n",
    "for col in needed_cols:\n",
    "    netflix[col] = netflix[col].str.replace('\"', '')"
   ]
  },
  {
   "cell_type": "code",
   "execution_count": 12,
   "id": "dd0d3f8f-12cd-4ae0-aa35-6a6c13196e15",
   "metadata": {
    "executionInfo": {
     "elapsed": 3,
     "status": "ok",
     "timestamp": 1748967893510,
     "user": {
      "displayName": "OLUWATOBI AFINTINNI",
      "userId": "05381180940816213032"
     },
     "user_tz": -60
    },
    "id": "dd0d3f8f-12cd-4ae0-aa35-6a6c13196e15"
   },
   "outputs": [],
   "source": [
    "#Using the 2nd method with lambda function\n",
    "netflix[needed_cols] = netflix[needed_cols].apply(lambda x: x.str.replace('\"', ''))"
   ]
  },
  {
   "cell_type": "code",
   "execution_count": 13,
   "id": "499ca087-af96-4547-8b2e-6347113adb1c",
   "metadata": {
    "colab": {
     "base_uri": "https://localhost:8080/",
     "height": 642
    },
    "executionInfo": {
     "elapsed": 14,
     "status": "ok",
     "timestamp": 1748967893704,
     "user": {
      "displayName": "OLUWATOBI AFINTINNI",
      "userId": "05381180940816213032"
     },
     "user_tz": -60
    },
    "id": "499ca087-af96-4547-8b2e-6347113adb1c",
    "outputId": "f54525d2-98c0-4fd8-ec83-6c111a7d9bfe"
   },
   "outputs": [
    {
     "data": {
      "text/html": [
       "<div>\n",
       "<style scoped>\n",
       "    .dataframe tbody tr th:only-of-type {\n",
       "        vertical-align: middle;\n",
       "    }\n",
       "\n",
       "    .dataframe tbody tr th {\n",
       "        vertical-align: top;\n",
       "    }\n",
       "\n",
       "    .dataframe thead th {\n",
       "        text-align: right;\n",
       "    }\n",
       "</style>\n",
       "<table border=\"1\" class=\"dataframe\">\n",
       "  <thead>\n",
       "    <tr style=\"text-align: right;\">\n",
       "      <th></th>\n",
       "      <th>show_id</th>\n",
       "      <th>type</th>\n",
       "      <th>title</th>\n",
       "      <th>director</th>\n",
       "      <th>cast</th>\n",
       "      <th>country</th>\n",
       "      <th>date_added</th>\n",
       "      <th>release_year</th>\n",
       "      <th>duration</th>\n",
       "      <th>description</th>\n",
       "      <th>genre</th>\n",
       "    </tr>\n",
       "  </thead>\n",
       "  <tbody>\n",
       "    <tr>\n",
       "      <th>0</th>\n",
       "      <td>s2</td>\n",
       "      <td>Movie</td>\n",
       "      <td>7:19</td>\n",
       "      <td>Jorge Michel Grau</td>\n",
       "      <td>Demián Bichir, Héctor Bonilla, Oscar Serrano, ...</td>\n",
       "      <td>Mexico</td>\n",
       "      <td>December 23, 2016</td>\n",
       "      <td>2016</td>\n",
       "      <td>93</td>\n",
       "      <td>After a devastating earthquake hits Mexico Cit...</td>\n",
       "      <td>Dramas</td>\n",
       "    </tr>\n",
       "    <tr>\n",
       "      <th>1</th>\n",
       "      <td>s3</td>\n",
       "      <td>Movie</td>\n",
       "      <td>23:59</td>\n",
       "      <td>Gilbert Chan</td>\n",
       "      <td>Tedd Chan, Stella Chung, Henley Hii, Lawrence ...</td>\n",
       "      <td>Singapore</td>\n",
       "      <td>December 20, 2018</td>\n",
       "      <td>2011</td>\n",
       "      <td>78</td>\n",
       "      <td>When an army recruit is found dead, his fellow...</td>\n",
       "      <td>Horror Movies</td>\n",
       "    </tr>\n",
       "    <tr>\n",
       "      <th>2</th>\n",
       "      <td>s4</td>\n",
       "      <td>Movie</td>\n",
       "      <td>9</td>\n",
       "      <td>Shane Acker</td>\n",
       "      <td>Elijah Wood, John C. Reilly, Jennifer Connelly...</td>\n",
       "      <td>United States</td>\n",
       "      <td>November 16, 2017</td>\n",
       "      <td>2009</td>\n",
       "      <td>80</td>\n",
       "      <td>In a postapocalyptic world, rag-doll robots hi...</td>\n",
       "      <td>Action</td>\n",
       "    </tr>\n",
       "    <tr>\n",
       "      <th>3</th>\n",
       "      <td>s5</td>\n",
       "      <td>Movie</td>\n",
       "      <td>21</td>\n",
       "      <td>Robert Luketic</td>\n",
       "      <td>Jim Sturgess, Kevin Spacey, Kate Bosworth, Aar...</td>\n",
       "      <td>United States</td>\n",
       "      <td>January 1, 2020</td>\n",
       "      <td>2008</td>\n",
       "      <td>123</td>\n",
       "      <td>A brilliant group of students become card-coun...</td>\n",
       "      <td>Dramas</td>\n",
       "    </tr>\n",
       "    <tr>\n",
       "      <th>4</th>\n",
       "      <td>s6</td>\n",
       "      <td>TV Show</td>\n",
       "      <td>46</td>\n",
       "      <td>Serdar Akar</td>\n",
       "      <td>Erdal Beşikçioğlu, Yasemin Allen, Melis Birkan...</td>\n",
       "      <td>Turkey</td>\n",
       "      <td>July 1, 2017</td>\n",
       "      <td>2016</td>\n",
       "      <td>1</td>\n",
       "      <td>A genetics professor experiments with a treatm...</td>\n",
       "      <td>International TV</td>\n",
       "    </tr>\n",
       "  </tbody>\n",
       "</table>\n",
       "</div>"
      ],
      "text/plain": [
       "  show_id     type  title           director  \\\n",
       "0      s2    Movie   7:19  Jorge Michel Grau   \n",
       "1      s3    Movie  23:59       Gilbert Chan   \n",
       "2      s4    Movie      9        Shane Acker   \n",
       "3      s5    Movie     21     Robert Luketic   \n",
       "4      s6  TV Show     46        Serdar Akar   \n",
       "\n",
       "                                                cast        country  \\\n",
       "0  Demián Bichir, Héctor Bonilla, Oscar Serrano, ...         Mexico   \n",
       "1  Tedd Chan, Stella Chung, Henley Hii, Lawrence ...      Singapore   \n",
       "2  Elijah Wood, John C. Reilly, Jennifer Connelly...  United States   \n",
       "3  Jim Sturgess, Kevin Spacey, Kate Bosworth, Aar...  United States   \n",
       "4  Erdal Beşikçioğlu, Yasemin Allen, Melis Birkan...         Turkey   \n",
       "\n",
       "          date_added  release_year  duration  \\\n",
       "0  December 23, 2016          2016        93   \n",
       "1  December 20, 2018          2011        78   \n",
       "2  November 16, 2017          2009        80   \n",
       "3    January 1, 2020          2008       123   \n",
       "4       July 1, 2017          2016         1   \n",
       "\n",
       "                                         description             genre  \n",
       "0  After a devastating earthquake hits Mexico Cit...            Dramas  \n",
       "1  When an army recruit is found dead, his fellow...     Horror Movies  \n",
       "2  In a postapocalyptic world, rag-doll robots hi...            Action  \n",
       "3  A brilliant group of students become card-coun...            Dramas  \n",
       "4  A genetics professor experiments with a treatm...  International TV  "
      ]
     },
     "execution_count": 13,
     "metadata": {},
     "output_type": "execute_result"
    }
   ],
   "source": [
    "netflix.head()"
   ]
  },
  {
   "cell_type": "code",
   "execution_count": 14,
   "id": "ae64c44a-8509-47f3-9853-193c9baab506",
   "metadata": {
    "colab": {
     "base_uri": "https://localhost:8080/",
     "height": 642
    },
    "executionInfo": {
     "elapsed": 8,
     "status": "error",
     "timestamp": 1748967893714,
     "user": {
      "displayName": "OLUWATOBI AFINTINNI",
      "userId": "05381180940816213032"
     },
     "user_tz": -60
    },
    "id": "ae64c44a-8509-47f3-9853-193c9baab506",
    "outputId": "ec21aad4-0916-48ce-c150-841279c53cc1"
   },
   "outputs": [
    {
     "ename": "ValueError",
     "evalue": "time data \" August 4, 2017\" doesn't match format \"%B %d, %Y\", at position 161. You might want to try:\n    - passing `format` if your strings have a consistent format;\n    - passing `format='ISO8601'` if your strings are all ISO8601 but not necessarily in exactly the same format;\n    - passing `format='mixed'`, and the format will be inferred for each element individually. You might want to use `dayfirst` alongside this.",
     "output_type": "error",
     "traceback": [
      "\u001b[1;31m---------------------------------------------------------------------------\u001b[0m",
      "\u001b[1;31mValueError\u001b[0m                                Traceback (most recent call last)",
      "Cell \u001b[1;32mIn[14], line 3\u001b[0m\n\u001b[0;32m      1\u001b[0m \u001b[38;5;66;03m#CONVERT THE DATE COLUMN\u001b[39;00m\n\u001b[0;32m      2\u001b[0m \u001b[38;5;66;03m#lets convert the date column into a datetime format\u001b[39;00m\n\u001b[1;32m----> 3\u001b[0m netflix[\u001b[38;5;124m'\u001b[39m\u001b[38;5;124mdate_added\u001b[39m\u001b[38;5;124m'\u001b[39m] \u001b[38;5;241m=\u001b[39m pd\u001b[38;5;241m.\u001b[39mto_datetime(netflix[\u001b[38;5;124m'\u001b[39m\u001b[38;5;124mdate_added\u001b[39m\u001b[38;5;124m'\u001b[39m])\n",
      "File \u001b[1;32m~\\anaconda3\\Lib\\site-packages\\pandas\\core\\tools\\datetimes.py:1046\u001b[0m, in \u001b[0;36mto_datetime\u001b[1;34m(arg, errors, dayfirst, yearfirst, utc, format, exact, unit, infer_datetime_format, origin, cache)\u001b[0m\n\u001b[0;32m   1044\u001b[0m             result \u001b[38;5;241m=\u001b[39m arg\u001b[38;5;241m.\u001b[39mtz_localize(\u001b[38;5;124m\"\u001b[39m\u001b[38;5;124mutc\u001b[39m\u001b[38;5;124m\"\u001b[39m)\n\u001b[0;32m   1045\u001b[0m \u001b[38;5;28;01melif\u001b[39;00m \u001b[38;5;28misinstance\u001b[39m(arg, ABCSeries):\n\u001b[1;32m-> 1046\u001b[0m     cache_array \u001b[38;5;241m=\u001b[39m _maybe_cache(arg, \u001b[38;5;28mformat\u001b[39m, cache, convert_listlike)\n\u001b[0;32m   1047\u001b[0m     \u001b[38;5;28;01mif\u001b[39;00m \u001b[38;5;129;01mnot\u001b[39;00m cache_array\u001b[38;5;241m.\u001b[39mempty:\n\u001b[0;32m   1048\u001b[0m         result \u001b[38;5;241m=\u001b[39m arg\u001b[38;5;241m.\u001b[39mmap(cache_array)\n",
      "File \u001b[1;32m~\\anaconda3\\Lib\\site-packages\\pandas\\core\\tools\\datetimes.py:250\u001b[0m, in \u001b[0;36m_maybe_cache\u001b[1;34m(arg, format, cache, convert_listlike)\u001b[0m\n\u001b[0;32m    248\u001b[0m unique_dates \u001b[38;5;241m=\u001b[39m unique(arg)\n\u001b[0;32m    249\u001b[0m \u001b[38;5;28;01mif\u001b[39;00m \u001b[38;5;28mlen\u001b[39m(unique_dates) \u001b[38;5;241m<\u001b[39m \u001b[38;5;28mlen\u001b[39m(arg):\n\u001b[1;32m--> 250\u001b[0m     cache_dates \u001b[38;5;241m=\u001b[39m convert_listlike(unique_dates, \u001b[38;5;28mformat\u001b[39m)\n\u001b[0;32m    251\u001b[0m     \u001b[38;5;66;03m# GH#45319\u001b[39;00m\n\u001b[0;32m    252\u001b[0m     \u001b[38;5;28;01mtry\u001b[39;00m:\n",
      "File \u001b[1;32m~\\anaconda3\\Lib\\site-packages\\pandas\\core\\tools\\datetimes.py:453\u001b[0m, in \u001b[0;36m_convert_listlike_datetimes\u001b[1;34m(arg, format, name, utc, unit, errors, dayfirst, yearfirst, exact)\u001b[0m\n\u001b[0;32m    451\u001b[0m \u001b[38;5;66;03m# `format` could be inferred, or user didn't ask for mixed-format parsing.\u001b[39;00m\n\u001b[0;32m    452\u001b[0m \u001b[38;5;28;01mif\u001b[39;00m \u001b[38;5;28mformat\u001b[39m \u001b[38;5;129;01mis\u001b[39;00m \u001b[38;5;129;01mnot\u001b[39;00m \u001b[38;5;28;01mNone\u001b[39;00m \u001b[38;5;129;01mand\u001b[39;00m \u001b[38;5;28mformat\u001b[39m \u001b[38;5;241m!=\u001b[39m \u001b[38;5;124m\"\u001b[39m\u001b[38;5;124mmixed\u001b[39m\u001b[38;5;124m\"\u001b[39m:\n\u001b[1;32m--> 453\u001b[0m     \u001b[38;5;28;01mreturn\u001b[39;00m _array_strptime_with_fallback(arg, name, utc, \u001b[38;5;28mformat\u001b[39m, exact, errors)\n\u001b[0;32m    455\u001b[0m result, tz_parsed \u001b[38;5;241m=\u001b[39m objects_to_datetime64ns(\n\u001b[0;32m    456\u001b[0m     arg,\n\u001b[0;32m    457\u001b[0m     dayfirst\u001b[38;5;241m=\u001b[39mdayfirst,\n\u001b[1;32m   (...)\u001b[0m\n\u001b[0;32m    461\u001b[0m     allow_object\u001b[38;5;241m=\u001b[39m\u001b[38;5;28;01mTrue\u001b[39;00m,\n\u001b[0;32m    462\u001b[0m )\n\u001b[0;32m    464\u001b[0m \u001b[38;5;28;01mif\u001b[39;00m tz_parsed \u001b[38;5;129;01mis\u001b[39;00m \u001b[38;5;129;01mnot\u001b[39;00m \u001b[38;5;28;01mNone\u001b[39;00m:\n\u001b[0;32m    465\u001b[0m     \u001b[38;5;66;03m# We can take a shortcut since the datetime64 numpy array\u001b[39;00m\n\u001b[0;32m    466\u001b[0m     \u001b[38;5;66;03m# is in UTC\u001b[39;00m\n",
      "File \u001b[1;32m~\\anaconda3\\Lib\\site-packages\\pandas\\core\\tools\\datetimes.py:484\u001b[0m, in \u001b[0;36m_array_strptime_with_fallback\u001b[1;34m(arg, name, utc, fmt, exact, errors)\u001b[0m\n\u001b[0;32m    473\u001b[0m \u001b[38;5;28;01mdef\u001b[39;00m \u001b[38;5;21m_array_strptime_with_fallback\u001b[39m(\n\u001b[0;32m    474\u001b[0m     arg,\n\u001b[0;32m    475\u001b[0m     name,\n\u001b[1;32m   (...)\u001b[0m\n\u001b[0;32m    479\u001b[0m     errors: \u001b[38;5;28mstr\u001b[39m,\n\u001b[0;32m    480\u001b[0m ) \u001b[38;5;241m-\u001b[39m\u001b[38;5;241m>\u001b[39m Index:\n\u001b[0;32m    481\u001b[0m \u001b[38;5;250m    \u001b[39m\u001b[38;5;124;03m\"\"\"\u001b[39;00m\n\u001b[0;32m    482\u001b[0m \u001b[38;5;124;03m    Call array_strptime, with fallback behavior depending on 'errors'.\u001b[39;00m\n\u001b[0;32m    483\u001b[0m \u001b[38;5;124;03m    \"\"\"\u001b[39;00m\n\u001b[1;32m--> 484\u001b[0m     result, timezones \u001b[38;5;241m=\u001b[39m array_strptime(arg, fmt, exact\u001b[38;5;241m=\u001b[39mexact, errors\u001b[38;5;241m=\u001b[39merrors, utc\u001b[38;5;241m=\u001b[39mutc)\n\u001b[0;32m    485\u001b[0m     \u001b[38;5;28;01mif\u001b[39;00m \u001b[38;5;28many\u001b[39m(tz \u001b[38;5;129;01mis\u001b[39;00m \u001b[38;5;129;01mnot\u001b[39;00m \u001b[38;5;28;01mNone\u001b[39;00m \u001b[38;5;28;01mfor\u001b[39;00m tz \u001b[38;5;129;01min\u001b[39;00m timezones):\n\u001b[0;32m    486\u001b[0m         \u001b[38;5;28;01mreturn\u001b[39;00m _return_parsed_timezone_results(result, timezones, utc, name)\n",
      "File \u001b[1;32m~\\anaconda3\\Lib\\site-packages\\pandas\\_libs\\tslibs\\strptime.pyx:530\u001b[0m, in \u001b[0;36mpandas._libs.tslibs.strptime.array_strptime\u001b[1;34m()\u001b[0m\n",
      "File \u001b[1;32m~\\anaconda3\\Lib\\site-packages\\pandas\\_libs\\tslibs\\strptime.pyx:351\u001b[0m, in \u001b[0;36mpandas._libs.tslibs.strptime.array_strptime\u001b[1;34m()\u001b[0m\n",
      "\u001b[1;31mValueError\u001b[0m: time data \" August 4, 2017\" doesn't match format \"%B %d, %Y\", at position 161. You might want to try:\n    - passing `format` if your strings have a consistent format;\n    - passing `format='ISO8601'` if your strings are all ISO8601 but not necessarily in exactly the same format;\n    - passing `format='mixed'`, and the format will be inferred for each element individually. You might want to use `dayfirst` alongside this."
     ]
    }
   ],
   "source": [
    "#CONVERT THE DATE COLUMN\n",
    "#lets convert the date column into a datetime format\n",
    "netflix['date_added'] = pd.to_datetime(netflix['date_added'])\n",
    "\n",
    "#opps, we just noticed that \" August 4, 2017\" doesn't match format \"%B %d, %Y\", at position 161. So we need to strip space"
   ]
  },
  {
   "cell_type": "code",
   "execution_count": 15,
   "id": "2ede765e",
   "metadata": {
    "executionInfo": {
     "elapsed": 3,
     "status": "ok",
     "timestamp": 1748967898854,
     "user": {
      "displayName": "OLUWATOBI AFINTINNI",
      "userId": "05381180940816213032"
     },
     "user_tz": -60
    },
    "id": "2ede765e"
   },
   "outputs": [],
   "source": [
    "netflix['date_added'] = netflix['date_added'].str.strip()"
   ]
  },
  {
   "cell_type": "code",
   "execution_count": 16,
   "id": "2e20df21",
   "metadata": {
    "executionInfo": {
     "elapsed": 1330,
     "status": "ok",
     "timestamp": 1748968180169,
     "user": {
      "displayName": "OLUWATOBI AFINTINNI",
      "userId": "05381180940816213032"
     },
     "user_tz": -60
    },
    "id": "2e20df21"
   },
   "outputs": [],
   "source": [
    "#Now lets convert the date column into a datetime format\n",
    "netflix['date_added'] = pd.to_datetime(netflix['date_added'])"
   ]
  },
  {
   "cell_type": "code",
   "execution_count": 17,
   "id": "e421c3b9",
   "metadata": {
    "colab": {
     "base_uri": "https://localhost:8080/"
    },
    "executionInfo": {
     "elapsed": 496,
     "status": "ok",
     "timestamp": 1748968183807,
     "user": {
      "displayName": "OLUWATOBI AFINTINNI",
      "userId": "05381180940816213032"
     },
     "user_tz": -60
    },
    "id": "e421c3b9",
    "outputId": "430acf77-dead-4a1c-f42d-263555d45c97"
   },
   "outputs": [
    {
     "name": "stdout",
     "output_type": "stream",
     "text": [
      "<class 'pandas.core.frame.DataFrame'>\n",
      "RangeIndex: 4812 entries, 0 to 4811\n",
      "Data columns (total 11 columns):\n",
      " #   Column        Non-Null Count  Dtype         \n",
      "---  ------        --------------  -----         \n",
      " 0   show_id       4812 non-null   object        \n",
      " 1   type          4812 non-null   object        \n",
      " 2   title         4812 non-null   object        \n",
      " 3   director      4812 non-null   object        \n",
      " 4   cast          4812 non-null   object        \n",
      " 5   country       4812 non-null   object        \n",
      " 6   date_added    4812 non-null   datetime64[ns]\n",
      " 7   release_year  4812 non-null   int64         \n",
      " 8   duration      4812 non-null   int64         \n",
      " 9   description   4812 non-null   object        \n",
      " 10  genre         4812 non-null   object        \n",
      "dtypes: datetime64[ns](1), int64(2), object(8)\n",
      "memory usage: 413.7+ KB\n"
     ]
    }
   ],
   "source": [
    "netflix.info()"
   ]
  },
  {
   "cell_type": "code",
   "execution_count": 18,
   "id": "962b73bb",
   "metadata": {
    "colab": {
     "base_uri": "https://localhost:8080/",
     "height": 642
    },
    "executionInfo": {
     "elapsed": 2921,
     "status": "ok",
     "timestamp": 1748968189395,
     "user": {
      "displayName": "OLUWATOBI AFINTINNI",
      "userId": "05381180940816213032"
     },
     "user_tz": -60
    },
    "id": "962b73bb",
    "outputId": "53529c0a-1846-4f3f-97b7-29bb41c2582f"
   },
   "outputs": [
    {
     "data": {
      "text/html": [
       "<div>\n",
       "<style scoped>\n",
       "    .dataframe tbody tr th:only-of-type {\n",
       "        vertical-align: middle;\n",
       "    }\n",
       "\n",
       "    .dataframe tbody tr th {\n",
       "        vertical-align: top;\n",
       "    }\n",
       "\n",
       "    .dataframe thead th {\n",
       "        text-align: right;\n",
       "    }\n",
       "</style>\n",
       "<table border=\"1\" class=\"dataframe\">\n",
       "  <thead>\n",
       "    <tr style=\"text-align: right;\">\n",
       "      <th></th>\n",
       "      <th>show_id</th>\n",
       "      <th>type</th>\n",
       "      <th>title</th>\n",
       "      <th>director</th>\n",
       "      <th>cast</th>\n",
       "      <th>country</th>\n",
       "      <th>date_added</th>\n",
       "      <th>release_year</th>\n",
       "      <th>duration</th>\n",
       "      <th>description</th>\n",
       "      <th>genre</th>\n",
       "    </tr>\n",
       "  </thead>\n",
       "  <tbody>\n",
       "    <tr>\n",
       "      <th>0</th>\n",
       "      <td>s2</td>\n",
       "      <td>Movie</td>\n",
       "      <td>7:19</td>\n",
       "      <td>Jorge Michel Grau</td>\n",
       "      <td>Demián Bichir, Héctor Bonilla, Oscar Serrano, ...</td>\n",
       "      <td>Mexico</td>\n",
       "      <td>2016-12-23</td>\n",
       "      <td>2016</td>\n",
       "      <td>93</td>\n",
       "      <td>After a devastating earthquake hits Mexico Cit...</td>\n",
       "      <td>Dramas</td>\n",
       "    </tr>\n",
       "    <tr>\n",
       "      <th>1</th>\n",
       "      <td>s3</td>\n",
       "      <td>Movie</td>\n",
       "      <td>23:59</td>\n",
       "      <td>Gilbert Chan</td>\n",
       "      <td>Tedd Chan, Stella Chung, Henley Hii, Lawrence ...</td>\n",
       "      <td>Singapore</td>\n",
       "      <td>2018-12-20</td>\n",
       "      <td>2011</td>\n",
       "      <td>78</td>\n",
       "      <td>When an army recruit is found dead, his fellow...</td>\n",
       "      <td>Horror Movies</td>\n",
       "    </tr>\n",
       "    <tr>\n",
       "      <th>2</th>\n",
       "      <td>s4</td>\n",
       "      <td>Movie</td>\n",
       "      <td>9</td>\n",
       "      <td>Shane Acker</td>\n",
       "      <td>Elijah Wood, John C. Reilly, Jennifer Connelly...</td>\n",
       "      <td>United States</td>\n",
       "      <td>2017-11-16</td>\n",
       "      <td>2009</td>\n",
       "      <td>80</td>\n",
       "      <td>In a postapocalyptic world, rag-doll robots hi...</td>\n",
       "      <td>Action</td>\n",
       "    </tr>\n",
       "    <tr>\n",
       "      <th>3</th>\n",
       "      <td>s5</td>\n",
       "      <td>Movie</td>\n",
       "      <td>21</td>\n",
       "      <td>Robert Luketic</td>\n",
       "      <td>Jim Sturgess, Kevin Spacey, Kate Bosworth, Aar...</td>\n",
       "      <td>United States</td>\n",
       "      <td>2020-01-01</td>\n",
       "      <td>2008</td>\n",
       "      <td>123</td>\n",
       "      <td>A brilliant group of students become card-coun...</td>\n",
       "      <td>Dramas</td>\n",
       "    </tr>\n",
       "    <tr>\n",
       "      <th>4</th>\n",
       "      <td>s6</td>\n",
       "      <td>TV Show</td>\n",
       "      <td>46</td>\n",
       "      <td>Serdar Akar</td>\n",
       "      <td>Erdal Beşikçioğlu, Yasemin Allen, Melis Birkan...</td>\n",
       "      <td>Turkey</td>\n",
       "      <td>2017-07-01</td>\n",
       "      <td>2016</td>\n",
       "      <td>1</td>\n",
       "      <td>A genetics professor experiments with a treatm...</td>\n",
       "      <td>International TV</td>\n",
       "    </tr>\n",
       "  </tbody>\n",
       "</table>\n",
       "</div>"
      ],
      "text/plain": [
       "  show_id     type  title           director  \\\n",
       "0      s2    Movie   7:19  Jorge Michel Grau   \n",
       "1      s3    Movie  23:59       Gilbert Chan   \n",
       "2      s4    Movie      9        Shane Acker   \n",
       "3      s5    Movie     21     Robert Luketic   \n",
       "4      s6  TV Show     46        Serdar Akar   \n",
       "\n",
       "                                                cast        country  \\\n",
       "0  Demián Bichir, Héctor Bonilla, Oscar Serrano, ...         Mexico   \n",
       "1  Tedd Chan, Stella Chung, Henley Hii, Lawrence ...      Singapore   \n",
       "2  Elijah Wood, John C. Reilly, Jennifer Connelly...  United States   \n",
       "3  Jim Sturgess, Kevin Spacey, Kate Bosworth, Aar...  United States   \n",
       "4  Erdal Beşikçioğlu, Yasemin Allen, Melis Birkan...         Turkey   \n",
       "\n",
       "  date_added  release_year  duration  \\\n",
       "0 2016-12-23          2016        93   \n",
       "1 2018-12-20          2011        78   \n",
       "2 2017-11-16          2009        80   \n",
       "3 2020-01-01          2008       123   \n",
       "4 2017-07-01          2016         1   \n",
       "\n",
       "                                         description             genre  \n",
       "0  After a devastating earthquake hits Mexico Cit...            Dramas  \n",
       "1  When an army recruit is found dead, his fellow...     Horror Movies  \n",
       "2  In a postapocalyptic world, rag-doll robots hi...            Action  \n",
       "3  A brilliant group of students become card-coun...            Dramas  \n",
       "4  A genetics professor experiments with a treatm...  International TV  "
      ]
     },
     "execution_count": 18,
     "metadata": {},
     "output_type": "execute_result"
    }
   ],
   "source": [
    "netflix.head(5)"
   ]
  },
  {
   "cell_type": "markdown",
   "id": "adeb7b7d-b464-4555-a693-1e1ba90b99d0",
   "metadata": {
    "id": "adeb7b7d-b464-4555-a693-1e1ba90b99d0"
   },
   "source": [
    "### Using EDA to answer questions"
   ]
  },
  {
   "cell_type": "markdown",
   "id": "bca34176-06f5-49e8-9255-93613ae33992",
   "metadata": {
    "id": "bca34176-06f5-49e8-9255-93613ae33992"
   },
   "source": [
    "__*1. What was the most frequent movie duration in the 1990s?*__"
   ]
  },
  {
   "cell_type": "markdown",
   "id": "05e55293-6959-470a-ad1d-8bfb645ffc15",
   "metadata": {
    "id": "05e55293-6959-470a-ad1d-8bfb645ffc15"
   },
   "source": [
    "- columns needed: Release year, duration, type"
   ]
  },
  {
   "cell_type": "code",
   "execution_count": 19,
   "id": "f6dc4a10-288b-4238-8eac-28ffec4c2c83",
   "metadata": {
    "colab": {
     "base_uri": "https://localhost:8080/"
    },
    "executionInfo": {
     "elapsed": 66,
     "status": "ok",
     "timestamp": 1748968194559,
     "user": {
      "displayName": "OLUWATOBI AFINTINNI",
      "userId": "05381180940816213032"
     },
     "user_tz": -60
    },
    "id": "f6dc4a10-288b-4238-8eac-28ffec4c2c83",
    "outputId": "b694f9d0-e9aa-4340-98fd-9624263ae750"
   },
   "outputs": [
    {
     "data": {
      "text/plain": [
       "array([1997, 1993, 1998, 1996, 1990, 1999, 1991, 1994, 1995, 1992],\n",
       "      dtype=int64)"
      ]
     },
     "execution_count": 19,
     "metadata": {},
     "output_type": "execute_result"
    }
   ],
   "source": [
    "#Lets first create a filtred dataframe for records between 1990 and 1999\n",
    "nineties = netflix[(netflix['release_year'] >= 1990) & (netflix['release_year'] <= 1999)]\n",
    "nineties['release_year'].unique()\n",
    "\n",
    "#So, we good"
   ]
  },
  {
   "cell_type": "code",
   "execution_count": 20,
   "id": "f18ee928-5762-47ee-b72e-79324ba17790",
   "metadata": {
    "executionInfo": {
     "elapsed": 124,
     "status": "ok",
     "timestamp": 1748968210984,
     "user": {
      "displayName": "OLUWATOBI AFINTINNI",
      "userId": "05381180940816213032"
     },
     "user_tz": -60
    },
    "id": "f18ee928-5762-47ee-b72e-79324ba17790"
   },
   "outputs": [],
   "source": [
    "#Method 2 - Lets do this and create another copy of our datafram\n",
    "nineties = netflix[netflix['release_year'].between(1990, 1999)].copy()"
   ]
  },
  {
   "cell_type": "code",
   "execution_count": 21,
   "id": "553550f1-cad8-4e01-a4dc-aeaba9dc6f23",
   "metadata": {
    "colab": {
     "base_uri": "https://localhost:8080/"
    },
    "executionInfo": {
     "elapsed": 223,
     "status": "ok",
     "timestamp": 1748968223938,
     "user": {
      "displayName": "OLUWATOBI AFINTINNI",
      "userId": "05381180940816213032"
     },
     "user_tz": -60
    },
    "id": "553550f1-cad8-4e01-a4dc-aeaba9dc6f23",
    "outputId": "40f93e04-0f5f-4024-f2b5-125c02890e6d"
   },
   "outputs": [
    {
     "data": {
      "text/plain": [
       "(184, 11)"
      ]
     },
     "execution_count": 21,
     "metadata": {},
     "output_type": "execute_result"
    }
   ],
   "source": [
    "nineties.shape"
   ]
  },
  {
   "cell_type": "code",
   "execution_count": 22,
   "id": "5afb9256-1e42-4b9f-b495-24cd612d4b56",
   "metadata": {
    "colab": {
     "base_uri": "https://localhost:8080/",
     "height": 694
    },
    "executionInfo": {
     "elapsed": 17,
     "status": "ok",
     "timestamp": 1748968223959,
     "user": {
      "displayName": "OLUWATOBI AFINTINNI",
      "userId": "05381180940816213032"
     },
     "user_tz": -60
    },
    "id": "5afb9256-1e42-4b9f-b495-24cd612d4b56",
    "outputId": "0cb633d4-5ae6-4340-9a03-875e1bb255d7"
   },
   "outputs": [
    {
     "data": {
      "text/html": [
       "<div>\n",
       "<style scoped>\n",
       "    .dataframe tbody tr th:only-of-type {\n",
       "        vertical-align: middle;\n",
       "    }\n",
       "\n",
       "    .dataframe tbody tr th {\n",
       "        vertical-align: top;\n",
       "    }\n",
       "\n",
       "    .dataframe thead th {\n",
       "        text-align: right;\n",
       "    }\n",
       "</style>\n",
       "<table border=\"1\" class=\"dataframe\">\n",
       "  <thead>\n",
       "    <tr style=\"text-align: right;\">\n",
       "      <th></th>\n",
       "      <th>show_id</th>\n",
       "      <th>type</th>\n",
       "      <th>title</th>\n",
       "      <th>director</th>\n",
       "      <th>cast</th>\n",
       "      <th>country</th>\n",
       "      <th>date_added</th>\n",
       "      <th>release_year</th>\n",
       "      <th>duration</th>\n",
       "      <th>description</th>\n",
       "      <th>genre</th>\n",
       "    </tr>\n",
       "  </thead>\n",
       "  <tbody>\n",
       "    <tr>\n",
       "      <th>6</th>\n",
       "      <td>s8</td>\n",
       "      <td>Movie</td>\n",
       "      <td>187</td>\n",
       "      <td>Kevin Reynolds</td>\n",
       "      <td>Samuel L. Jackson, John Heard, Kelly Rowan, Cl...</td>\n",
       "      <td>United States</td>\n",
       "      <td>2019-11-01</td>\n",
       "      <td>1997</td>\n",
       "      <td>119</td>\n",
       "      <td>After one of his high school students attacks ...</td>\n",
       "      <td>Dramas</td>\n",
       "    </tr>\n",
       "    <tr>\n",
       "      <th>118</th>\n",
       "      <td>s167</td>\n",
       "      <td>Movie</td>\n",
       "      <td>A Dangerous Woman</td>\n",
       "      <td>Stephen Gyllenhaal</td>\n",
       "      <td>Debra Winger, Barbara Hershey, Gabriel Byrne, ...</td>\n",
       "      <td>United States</td>\n",
       "      <td>2018-04-01</td>\n",
       "      <td>1993</td>\n",
       "      <td>101</td>\n",
       "      <td>At the center of this engrossing melodrama is ...</td>\n",
       "      <td>Dramas</td>\n",
       "    </tr>\n",
       "    <tr>\n",
       "      <th>145</th>\n",
       "      <td>s211</td>\n",
       "      <td>Movie</td>\n",
       "      <td>A Night at the Roxbury</td>\n",
       "      <td>John Fortenberry</td>\n",
       "      <td>Will Ferrell, Chris Kattan, Dan Hedaya, Molly ...</td>\n",
       "      <td>United States</td>\n",
       "      <td>2019-12-01</td>\n",
       "      <td>1998</td>\n",
       "      <td>82</td>\n",
       "      <td>After a run-in with Richard Grieco, dimwits Do...</td>\n",
       "      <td>Comedies</td>\n",
       "    </tr>\n",
       "    <tr>\n",
       "      <th>167</th>\n",
       "      <td>s239</td>\n",
       "      <td>Movie</td>\n",
       "      <td>A Thin Line Between Love &amp; Hate</td>\n",
       "      <td>Martin Lawrence</td>\n",
       "      <td>Martin Lawrence, Lynn Whitfield, Regina King, ...</td>\n",
       "      <td>United States</td>\n",
       "      <td>2020-12-01</td>\n",
       "      <td>1996</td>\n",
       "      <td>108</td>\n",
       "      <td>When a philandering club promoter sets out to ...</td>\n",
       "      <td>Comedies</td>\n",
       "    </tr>\n",
       "    <tr>\n",
       "      <th>194</th>\n",
       "      <td>s274</td>\n",
       "      <td>Movie</td>\n",
       "      <td>Aashik Awara</td>\n",
       "      <td>Umesh Mehra</td>\n",
       "      <td>Saif Ali Khan, Mamta Kulkarni, Mohnish Bahl, S...</td>\n",
       "      <td>India</td>\n",
       "      <td>2017-06-01</td>\n",
       "      <td>1993</td>\n",
       "      <td>154</td>\n",
       "      <td>Raised by a kindly thief, orphaned Jimmy goes ...</td>\n",
       "      <td>Dramas</td>\n",
       "    </tr>\n",
       "  </tbody>\n",
       "</table>\n",
       "</div>"
      ],
      "text/plain": [
       "    show_id   type                            title            director  \\\n",
       "6        s8  Movie                              187      Kevin Reynolds   \n",
       "118    s167  Movie                A Dangerous Woman  Stephen Gyllenhaal   \n",
       "145    s211  Movie           A Night at the Roxbury    John Fortenberry   \n",
       "167    s239  Movie  A Thin Line Between Love & Hate     Martin Lawrence   \n",
       "194    s274  Movie                     Aashik Awara         Umesh Mehra   \n",
       "\n",
       "                                                  cast        country  \\\n",
       "6    Samuel L. Jackson, John Heard, Kelly Rowan, Cl...  United States   \n",
       "118  Debra Winger, Barbara Hershey, Gabriel Byrne, ...  United States   \n",
       "145  Will Ferrell, Chris Kattan, Dan Hedaya, Molly ...  United States   \n",
       "167  Martin Lawrence, Lynn Whitfield, Regina King, ...  United States   \n",
       "194  Saif Ali Khan, Mamta Kulkarni, Mohnish Bahl, S...          India   \n",
       "\n",
       "    date_added  release_year  duration  \\\n",
       "6   2019-11-01          1997       119   \n",
       "118 2018-04-01          1993       101   \n",
       "145 2019-12-01          1998        82   \n",
       "167 2020-12-01          1996       108   \n",
       "194 2017-06-01          1993       154   \n",
       "\n",
       "                                           description     genre  \n",
       "6    After one of his high school students attacks ...    Dramas  \n",
       "118  At the center of this engrossing melodrama is ...    Dramas  \n",
       "145  After a run-in with Richard Grieco, dimwits Do...  Comedies  \n",
       "167  When a philandering club promoter sets out to ...  Comedies  \n",
       "194  Raised by a kindly thief, orphaned Jimmy goes ...    Dramas  "
      ]
     },
     "execution_count": 22,
     "metadata": {},
     "output_type": "execute_result"
    }
   ],
   "source": [
    "nineties.head()"
   ]
  },
  {
   "cell_type": "code",
   "execution_count": 23,
   "id": "5f586905-f81b-4540-b297-7a160e4a4515",
   "metadata": {
    "colab": {
     "base_uri": "https://localhost:8080/"
    },
    "executionInfo": {
     "elapsed": 302,
     "status": "ok",
     "timestamp": 1748968224268,
     "user": {
      "displayName": "OLUWATOBI AFINTINNI",
      "userId": "05381180940816213032"
     },
     "user_tz": -60
    },
    "id": "5f586905-f81b-4540-b297-7a160e4a4515",
    "outputId": "3d1d3aa1-5673-436b-a20b-f11df1cf3684"
   },
   "outputs": [
    {
     "data": {
      "text/plain": [
       "array(['Movie'], dtype=object)"
      ]
     },
     "execution_count": 23,
     "metadata": {},
     "output_type": "execute_result"
    }
   ],
   "source": [
    "#Next, lets find the most frequent of the nineties movies - But, lets first make sure its a movie\n",
    "nineties_movies = nineties[nineties['type']=='Movie']\n",
    "nineties_movies['type'].unique()"
   ]
  },
  {
   "cell_type": "code",
   "execution_count": 24,
   "id": "c40ca0fa-62bb-4684-ac3d-3538e5ad82bd",
   "metadata": {
    "colab": {
     "base_uri": "https://localhost:8080/"
    },
    "executionInfo": {
     "elapsed": 74,
     "status": "ok",
     "timestamp": 1748968224345,
     "user": {
      "displayName": "OLUWATOBI AFINTINNI",
      "userId": "05381180940816213032"
     },
     "user_tz": -60
    },
    "id": "c40ca0fa-62bb-4684-ac3d-3538e5ad82bd",
    "outputId": "82939510-2e23-41e2-de68-7e0170472c02"
   },
   "outputs": [
    {
     "data": {
      "text/plain": [
       "((183, 11), (184, 11))"
      ]
     },
     "execution_count": 24,
     "metadata": {},
     "output_type": "execute_result"
    }
   ],
   "source": [
    "nineties_movies.shape, nineties.shape"
   ]
  },
  {
   "cell_type": "code",
   "execution_count": 25,
   "id": "333f0874",
   "metadata": {
    "colab": {
     "base_uri": "https://localhost:8080/",
     "height": 147
    },
    "executionInfo": {
     "elapsed": 11,
     "status": "ok",
     "timestamp": 1748968224538,
     "user": {
      "displayName": "OLUWATOBI AFINTINNI",
      "userId": "05381180940816213032"
     },
     "user_tz": -60
    },
    "id": "333f0874",
    "outputId": "3b0bef81-a88e-49b3-9884-f23b0d8cc5d9"
   },
   "outputs": [
    {
     "data": {
      "text/plain": [
       "duration\n",
       "94    7\n",
       "Name: count, dtype: int64"
      ]
     },
     "execution_count": 25,
     "metadata": {},
     "output_type": "execute_result"
    }
   ],
   "source": [
    "#Now, lets count\n",
    "most_freq = nineties_movies['duration'].value_counts().nlargest(1)\n",
    "most_freq\n",
    "#Answer - The most frequent duration of the nineties was 94, which occured 7 times"
   ]
  },
  {
   "cell_type": "code",
   "execution_count": 26,
   "id": "QPR_c_rEAf1Z",
   "metadata": {
    "colab": {
     "base_uri": "https://localhost:8080/",
     "height": 147
    },
    "executionInfo": {
     "elapsed": 2940,
     "status": "ok",
     "timestamp": 1748968240037,
     "user": {
      "displayName": "OLUWATOBI AFINTINNI",
      "userId": "05381180940816213032"
     },
     "user_tz": -60
    },
    "id": "QPR_c_rEAf1Z",
    "outputId": "8556470b-568c-4809-a97b-f10049556c7c"
   },
   "outputs": [
    {
     "data": {
      "text/plain": [
       "duration\n",
       "94    7\n",
       "Name: count, dtype: int64"
      ]
     },
     "execution_count": 26,
     "metadata": {},
     "output_type": "execute_result"
    }
   ],
   "source": [
    "nineties_movies['duration'].value_counts().nlargest(1)"
   ]
  },
  {
   "cell_type": "markdown",
   "id": "894db116",
   "metadata": {
    "id": "894db116"
   },
   "source": [
    "__* 2 A movie is considered short if it is less than 90 minutes Count the number of short action movies released in the 1990s?*__"
   ]
  },
  {
   "cell_type": "code",
   "execution_count": 27,
   "id": "17852a55",
   "metadata": {
    "colab": {
     "base_uri": "https://localhost:8080/",
     "height": 712
    },
    "executionInfo": {
     "elapsed": 202,
     "status": "ok",
     "timestamp": 1748968240243,
     "user": {
      "displayName": "OLUWATOBI AFINTINNI",
      "userId": "05381180940816213032"
     },
     "user_tz": -60
    },
    "id": "17852a55",
    "outputId": "2671de6e-6d13-473c-b349-4519ce5f82b0"
   },
   "outputs": [
    {
     "data": {
      "text/html": [
       "<div>\n",
       "<style scoped>\n",
       "    .dataframe tbody tr th:only-of-type {\n",
       "        vertical-align: middle;\n",
       "    }\n",
       "\n",
       "    .dataframe tbody tr th {\n",
       "        vertical-align: top;\n",
       "    }\n",
       "\n",
       "    .dataframe thead th {\n",
       "        text-align: right;\n",
       "    }\n",
       "</style>\n",
       "<table border=\"1\" class=\"dataframe\">\n",
       "  <thead>\n",
       "    <tr style=\"text-align: right;\">\n",
       "      <th></th>\n",
       "      <th>show_id</th>\n",
       "      <th>type</th>\n",
       "      <th>title</th>\n",
       "      <th>director</th>\n",
       "      <th>cast</th>\n",
       "      <th>country</th>\n",
       "      <th>date_added</th>\n",
       "      <th>release_year</th>\n",
       "      <th>duration</th>\n",
       "      <th>description</th>\n",
       "      <th>genre</th>\n",
       "    </tr>\n",
       "  </thead>\n",
       "  <tbody>\n",
       "    <tr>\n",
       "      <th>352</th>\n",
       "      <td>s508</td>\n",
       "      <td>Movie</td>\n",
       "      <td>Andaz Apna Apna</td>\n",
       "      <td>Rajkumar Santoshi</td>\n",
       "      <td>Aamir Khan, Salman Khan, Raveena Tandon, Karis...</td>\n",
       "      <td>India</td>\n",
       "      <td>2020-05-11</td>\n",
       "      <td>1994</td>\n",
       "      <td>160</td>\n",
       "      <td>Broke and with no concrete plans for the futur...</td>\n",
       "      <td>Action</td>\n",
       "    </tr>\n",
       "    <tr>\n",
       "      <th>431</th>\n",
       "      <td>s628</td>\n",
       "      <td>Movie</td>\n",
       "      <td>Austin Powers: The Spy Who Shagged Me</td>\n",
       "      <td>Jay Roach</td>\n",
       "      <td>Mike Myers, Heather Graham, Michael York, Robe...</td>\n",
       "      <td>United States</td>\n",
       "      <td>2019-12-01</td>\n",
       "      <td>1999</td>\n",
       "      <td>95</td>\n",
       "      <td>When diabolical genius Dr. Evil travels back i...</td>\n",
       "      <td>Action</td>\n",
       "    </tr>\n",
       "    <tr>\n",
       "      <th>468</th>\n",
       "      <td>s688</td>\n",
       "      <td>Movie</td>\n",
       "      <td>Bad Boys</td>\n",
       "      <td>Michael Bay</td>\n",
       "      <td>Will Smith, Martin Lawrence, Téa Leoni, Tchéky...</td>\n",
       "      <td>United States</td>\n",
       "      <td>2019-10-01</td>\n",
       "      <td>1995</td>\n",
       "      <td>119</td>\n",
       "      <td>In this fast-paced actioner, two Miami narcoti...</td>\n",
       "      <td>Action</td>\n",
       "    </tr>\n",
       "    <tr>\n",
       "      <th>515</th>\n",
       "      <td>s757</td>\n",
       "      <td>Movie</td>\n",
       "      <td>Barsaat</td>\n",
       "      <td>Rajkumar Santoshi</td>\n",
       "      <td>Twinkle Khanna, Bobby Deol, Danny Denzongpa, R...</td>\n",
       "      <td>India</td>\n",
       "      <td>2018-04-01</td>\n",
       "      <td>1995</td>\n",
       "      <td>166</td>\n",
       "      <td>A naïve young man and a rich city girl fall in...</td>\n",
       "      <td>Action</td>\n",
       "    </tr>\n",
       "    <tr>\n",
       "      <th>675</th>\n",
       "      <td>s1003</td>\n",
       "      <td>Movie</td>\n",
       "      <td>Blue Streak</td>\n",
       "      <td>Les Mayfield</td>\n",
       "      <td>Martin Lawrence, Luke Wilson, Peter Greene, Da...</td>\n",
       "      <td>Germany</td>\n",
       "      <td>2021-01-01</td>\n",
       "      <td>1999</td>\n",
       "      <td>94</td>\n",
       "      <td>A jewel thief returns to his hiding place afte...</td>\n",
       "      <td>Action</td>\n",
       "    </tr>\n",
       "  </tbody>\n",
       "</table>\n",
       "</div>"
      ],
      "text/plain": [
       "    show_id   type                                  title           director  \\\n",
       "352    s508  Movie                        Andaz Apna Apna  Rajkumar Santoshi   \n",
       "431    s628  Movie  Austin Powers: The Spy Who Shagged Me          Jay Roach   \n",
       "468    s688  Movie                               Bad Boys        Michael Bay   \n",
       "515    s757  Movie                                Barsaat  Rajkumar Santoshi   \n",
       "675   s1003  Movie                            Blue Streak       Les Mayfield   \n",
       "\n",
       "                                                  cast        country  \\\n",
       "352  Aamir Khan, Salman Khan, Raveena Tandon, Karis...          India   \n",
       "431  Mike Myers, Heather Graham, Michael York, Robe...  United States   \n",
       "468  Will Smith, Martin Lawrence, Téa Leoni, Tchéky...  United States   \n",
       "515  Twinkle Khanna, Bobby Deol, Danny Denzongpa, R...          India   \n",
       "675  Martin Lawrence, Luke Wilson, Peter Greene, Da...        Germany   \n",
       "\n",
       "    date_added  release_year  duration  \\\n",
       "352 2020-05-11          1994       160   \n",
       "431 2019-12-01          1999        95   \n",
       "468 2019-10-01          1995       119   \n",
       "515 2018-04-01          1995       166   \n",
       "675 2021-01-01          1999        94   \n",
       "\n",
       "                                           description   genre  \n",
       "352  Broke and with no concrete plans for the futur...  Action  \n",
       "431  When diabolical genius Dr. Evil travels back i...  Action  \n",
       "468  In this fast-paced actioner, two Miami narcoti...  Action  \n",
       "515  A naïve young man and a rich city girl fall in...  Action  \n",
       "675  A jewel thief returns to his hiding place afte...  Action  "
      ]
     },
     "execution_count": 27,
     "metadata": {},
     "output_type": "execute_result"
    }
   ],
   "source": [
    "#Step 1 - We already have a datafram for 1990s movie. so, lets filter that further to just records with action movies\n",
    "action_movies_90 = nineties_movies[nineties_movies['genre'] == 'Action']\n",
    "action_movies_90.head()"
   ]
  },
  {
   "cell_type": "code",
   "execution_count": 28,
   "id": "2a78a209",
   "metadata": {
    "executionInfo": {
     "elapsed": 13,
     "status": "ok",
     "timestamp": 1748968242486,
     "user": {
      "displayName": "OLUWATOBI AFINTINNI",
      "userId": "05381180940816213032"
     },
     "user_tz": -60
    },
    "id": "2a78a209"
   },
   "outputs": [],
   "source": [
    "# Step 2 is to filter down to short action movies\n",
    "sht_act_mov90 = action_movies_90[action_movies_90['duration']<90]"
   ]
  },
  {
   "cell_type": "code",
   "execution_count": 29,
   "id": "52f5a6ad-879b-4e8f-adc5-0d6dfd161b53",
   "metadata": {
    "colab": {
     "base_uri": "https://localhost:8080/",
     "height": 931
    },
    "executionInfo": {
     "elapsed": 205,
     "status": "ok",
     "timestamp": 1748968259723,
     "user": {
      "displayName": "OLUWATOBI AFINTINNI",
      "userId": "05381180940816213032"
     },
     "user_tz": -60
    },
    "id": "52f5a6ad-879b-4e8f-adc5-0d6dfd161b53",
    "outputId": "030e5afd-df93-4485-d67b-56499c89c3ad"
   },
   "outputs": [
    {
     "data": {
      "text/html": [
       "<div>\n",
       "<style scoped>\n",
       "    .dataframe tbody tr th:only-of-type {\n",
       "        vertical-align: middle;\n",
       "    }\n",
       "\n",
       "    .dataframe tbody tr th {\n",
       "        vertical-align: top;\n",
       "    }\n",
       "\n",
       "    .dataframe thead th {\n",
       "        text-align: right;\n",
       "    }\n",
       "</style>\n",
       "<table border=\"1\" class=\"dataframe\">\n",
       "  <thead>\n",
       "    <tr style=\"text-align: right;\">\n",
       "      <th></th>\n",
       "      <th>show_id</th>\n",
       "      <th>type</th>\n",
       "      <th>title</th>\n",
       "      <th>director</th>\n",
       "      <th>cast</th>\n",
       "      <th>country</th>\n",
       "      <th>date_added</th>\n",
       "      <th>release_year</th>\n",
       "      <th>duration</th>\n",
       "      <th>description</th>\n",
       "      <th>genre</th>\n",
       "    </tr>\n",
       "  </thead>\n",
       "  <tbody>\n",
       "    <tr>\n",
       "      <th>1288</th>\n",
       "      <td>s2039</td>\n",
       "      <td>Movie</td>\n",
       "      <td>EVANGELION: DEATH (TRUE)²</td>\n",
       "      <td>Hideaki Anno</td>\n",
       "      <td>Megumi Ogata, Kotono Mitsuishi, Megumi Hayashi...</td>\n",
       "      <td>Japan</td>\n",
       "      <td>2019-06-21</td>\n",
       "      <td>1998</td>\n",
       "      <td>69</td>\n",
       "      <td>Fifteen years after the Second Impact, apathet...</td>\n",
       "      <td>Action</td>\n",
       "    </tr>\n",
       "    <tr>\n",
       "      <th>1698</th>\n",
       "      <td>s2708</td>\n",
       "      <td>Movie</td>\n",
       "      <td>Hero</td>\n",
       "      <td>Corey Yuen</td>\n",
       "      <td>Takeshi Kaneshiro, Yuen Biao, Valerie Chow, Je...</td>\n",
       "      <td>Hong Kong</td>\n",
       "      <td>2018-08-01</td>\n",
       "      <td>1997</td>\n",
       "      <td>89</td>\n",
       "      <td>A pugilist from Shantung struggles to rise to ...</td>\n",
       "      <td>Action</td>\n",
       "    </tr>\n",
       "    <tr>\n",
       "      <th>2328</th>\n",
       "      <td>s3718</td>\n",
       "      <td>Movie</td>\n",
       "      <td>\"Look Out, Officer\"</td>\n",
       "      <td>Sze Yu Lau</td>\n",
       "      <td>Stephen Chow, Bill Tung, Stanley Sui-Fan Fung,...</td>\n",
       "      <td>Hong Kong</td>\n",
       "      <td>2018-08-16</td>\n",
       "      <td>1990</td>\n",
       "      <td>88</td>\n",
       "      <td>An officer killed on the job returns to Earth ...</td>\n",
       "      <td>Action</td>\n",
       "    </tr>\n",
       "    <tr>\n",
       "      <th>2993</th>\n",
       "      <td>s4787</td>\n",
       "      <td>Movie</td>\n",
       "      <td>Passenger 57</td>\n",
       "      <td>Kevin Hooks</td>\n",
       "      <td>Wesley Snipes, Bruce Payne, Tom Sizemore, Alex...</td>\n",
       "      <td>United States</td>\n",
       "      <td>2021-01-01</td>\n",
       "      <td>1992</td>\n",
       "      <td>84</td>\n",
       "      <td>Air marshal John Cutter must stop notorious te...</td>\n",
       "      <td>Action</td>\n",
       "    </tr>\n",
       "    <tr>\n",
       "      <th>3297</th>\n",
       "      <td>s5299</td>\n",
       "      <td>Movie</td>\n",
       "      <td>Rumble in the Bronx</td>\n",
       "      <td>Stanley Tong</td>\n",
       "      <td>Jackie Chan, Anita Mui, Françoise Yip, Bill Tu...</td>\n",
       "      <td>Hong Kong</td>\n",
       "      <td>2019-11-01</td>\n",
       "      <td>1995</td>\n",
       "      <td>89</td>\n",
       "      <td>During a visit to the Bronx to help out at his...</td>\n",
       "      <td>Action</td>\n",
       "    </tr>\n",
       "    <tr>\n",
       "      <th>3806</th>\n",
       "      <td>s6114</td>\n",
       "      <td>Movie</td>\n",
       "      <td>The Bare-Footed Kid</td>\n",
       "      <td>Johnnie To</td>\n",
       "      <td>Aaron Kwok, Lung Ti, Maggie Cheung, Chien-lien...</td>\n",
       "      <td>Hong Kong</td>\n",
       "      <td>2018-08-16</td>\n",
       "      <td>1993</td>\n",
       "      <td>83</td>\n",
       "      <td>While working at a family friend's business, a...</td>\n",
       "      <td>Action</td>\n",
       "    </tr>\n",
       "    <tr>\n",
       "      <th>3943</th>\n",
       "      <td>s6330</td>\n",
       "      <td>Movie</td>\n",
       "      <td>The End of Evangelion</td>\n",
       "      <td>\"Hideaki Anno, Kazuya Tsurumaki\"</td>\n",
       "      <td>Megumi Ogata, Kotono Mitsuishi, Megumi Hayashi...</td>\n",
       "      <td>Japan</td>\n",
       "      <td>2019-06-21</td>\n",
       "      <td>1997</td>\n",
       "      <td>87</td>\n",
       "      <td>Seele orders an all-out attack on NERV, aiming...</td>\n",
       "      <td>Action</td>\n",
       "    </tr>\n",
       "  </tbody>\n",
       "</table>\n",
       "</div>"
      ],
      "text/plain": [
       "     show_id   type                      title  \\\n",
       "1288   s2039  Movie  EVANGELION: DEATH (TRUE)²   \n",
       "1698   s2708  Movie                       Hero   \n",
       "2328   s3718  Movie        \"Look Out, Officer\"   \n",
       "2993   s4787  Movie               Passenger 57   \n",
       "3297   s5299  Movie        Rumble in the Bronx   \n",
       "3806   s6114  Movie        The Bare-Footed Kid   \n",
       "3943   s6330  Movie      The End of Evangelion   \n",
       "\n",
       "                              director  \\\n",
       "1288                      Hideaki Anno   \n",
       "1698                        Corey Yuen   \n",
       "2328                        Sze Yu Lau   \n",
       "2993                       Kevin Hooks   \n",
       "3297                      Stanley Tong   \n",
       "3806                        Johnnie To   \n",
       "3943  \"Hideaki Anno, Kazuya Tsurumaki\"   \n",
       "\n",
       "                                                   cast        country  \\\n",
       "1288  Megumi Ogata, Kotono Mitsuishi, Megumi Hayashi...          Japan   \n",
       "1698  Takeshi Kaneshiro, Yuen Biao, Valerie Chow, Je...      Hong Kong   \n",
       "2328  Stephen Chow, Bill Tung, Stanley Sui-Fan Fung,...      Hong Kong   \n",
       "2993  Wesley Snipes, Bruce Payne, Tom Sizemore, Alex...  United States   \n",
       "3297  Jackie Chan, Anita Mui, Françoise Yip, Bill Tu...      Hong Kong   \n",
       "3806  Aaron Kwok, Lung Ti, Maggie Cheung, Chien-lien...      Hong Kong   \n",
       "3943  Megumi Ogata, Kotono Mitsuishi, Megumi Hayashi...          Japan   \n",
       "\n",
       "     date_added  release_year  duration  \\\n",
       "1288 2019-06-21          1998        69   \n",
       "1698 2018-08-01          1997        89   \n",
       "2328 2018-08-16          1990        88   \n",
       "2993 2021-01-01          1992        84   \n",
       "3297 2019-11-01          1995        89   \n",
       "3806 2018-08-16          1993        83   \n",
       "3943 2019-06-21          1997        87   \n",
       "\n",
       "                                            description   genre  \n",
       "1288  Fifteen years after the Second Impact, apathet...  Action  \n",
       "1698  A pugilist from Shantung struggles to rise to ...  Action  \n",
       "2328  An officer killed on the job returns to Earth ...  Action  \n",
       "2993  Air marshal John Cutter must stop notorious te...  Action  \n",
       "3297  During a visit to the Bronx to help out at his...  Action  \n",
       "3806  While working at a family friend's business, a...  Action  \n",
       "3943  Seele orders an all-out attack on NERV, aiming...  Action  "
      ]
     },
     "execution_count": 29,
     "metadata": {},
     "output_type": "execute_result"
    }
   ],
   "source": [
    "sht_act_mov90"
   ]
  },
  {
   "cell_type": "code",
   "execution_count": 30,
   "id": "564baf4c",
   "metadata": {
    "executionInfo": {
     "elapsed": 145,
     "status": "ok",
     "timestamp": 1748968272626,
     "user": {
      "displayName": "OLUWATOBI AFINTINNI",
      "userId": "05381180940816213032"
     },
     "user_tz": -60
    },
    "id": "564baf4c"
   },
   "outputs": [],
   "source": [
    "#Step 3. Lets count after pulling out dataframe\n",
    "#no_shortmoves = sht_act_mov90['title'].value_counts().sum()\n",
    "#no_shortmoves"
   ]
  },
  {
   "cell_type": "code",
   "execution_count": 31,
   "id": "Il5bmozNDbvI",
   "metadata": {
    "colab": {
     "base_uri": "https://localhost:8080/"
    },
    "executionInfo": {
     "elapsed": 105,
     "status": "ok",
     "timestamp": 1748968324238,
     "user": {
      "displayName": "OLUWATOBI AFINTINNI",
      "userId": "05381180940816213032"
     },
     "user_tz": -60
    },
    "id": "Il5bmozNDbvI",
    "outputId": "19001dc2-0e27-45e8-de62-ca885d0d8bb7"
   },
   "outputs": [
    {
     "data": {
      "text/plain": [
       "7"
      ]
     },
     "execution_count": 31,
     "metadata": {},
     "output_type": "execute_result"
    }
   ],
   "source": [
    "len(sht_act_mov90)"
   ]
  },
  {
   "cell_type": "code",
   "execution_count": 32,
   "id": "AzOJ9yA3DxgA",
   "metadata": {
    "colab": {
     "base_uri": "https://localhost:8080/"
    },
    "executionInfo": {
     "elapsed": 73,
     "status": "ok",
     "timestamp": 1748968328274,
     "user": {
      "displayName": "OLUWATOBI AFINTINNI",
      "userId": "05381180940816213032"
     },
     "user_tz": -60
    },
    "id": "AzOJ9yA3DxgA",
    "outputId": "561565c9-ced0-4d11-f0fc-276d4fb2b207"
   },
   "outputs": [
    {
     "data": {
      "text/plain": [
       "7"
      ]
     },
     "execution_count": 32,
     "metadata": {},
     "output_type": "execute_result"
    }
   ],
   "source": [
    "sht_act_mov90.shape[0]"
   ]
  },
  {
   "cell_type": "markdown",
   "id": "b17ef837",
   "metadata": {
    "id": "b17ef837"
   },
   "source": [
    "Question 3: What was the most frequent movie genre in the 2010s?"
   ]
  },
  {
   "cell_type": "code",
   "execution_count": 33,
   "id": "bb6ff6d4",
   "metadata": {
    "colab": {
     "base_uri": "https://localhost:8080/",
     "height": 764
    },
    "executionInfo": {
     "elapsed": 13,
     "status": "ok",
     "timestamp": 1748968335904,
     "user": {
      "displayName": "OLUWATOBI AFINTINNI",
      "userId": "05381180940816213032"
     },
     "user_tz": -60
    },
    "id": "bb6ff6d4",
    "outputId": "eb9093d9-7272-49bb-da0b-95dbc50500c2",
    "scrolled": true
   },
   "outputs": [
    {
     "data": {
      "text/html": [
       "<div>\n",
       "<style scoped>\n",
       "    .dataframe tbody tr th:only-of-type {\n",
       "        vertical-align: middle;\n",
       "    }\n",
       "\n",
       "    .dataframe tbody tr th {\n",
       "        vertical-align: top;\n",
       "    }\n",
       "\n",
       "    .dataframe thead th {\n",
       "        text-align: right;\n",
       "    }\n",
       "</style>\n",
       "<table border=\"1\" class=\"dataframe\">\n",
       "  <thead>\n",
       "    <tr style=\"text-align: right;\">\n",
       "      <th></th>\n",
       "      <th>show_id</th>\n",
       "      <th>type</th>\n",
       "      <th>title</th>\n",
       "      <th>director</th>\n",
       "      <th>cast</th>\n",
       "      <th>country</th>\n",
       "      <th>date_added</th>\n",
       "      <th>release_year</th>\n",
       "      <th>duration</th>\n",
       "      <th>description</th>\n",
       "      <th>genre</th>\n",
       "    </tr>\n",
       "  </thead>\n",
       "  <tbody>\n",
       "    <tr>\n",
       "      <th>0</th>\n",
       "      <td>s2</td>\n",
       "      <td>Movie</td>\n",
       "      <td>7:19</td>\n",
       "      <td>Jorge Michel Grau</td>\n",
       "      <td>Demián Bichir, Héctor Bonilla, Oscar Serrano, ...</td>\n",
       "      <td>Mexico</td>\n",
       "      <td>2016-12-23</td>\n",
       "      <td>2016</td>\n",
       "      <td>93</td>\n",
       "      <td>After a devastating earthquake hits Mexico Cit...</td>\n",
       "      <td>Dramas</td>\n",
       "    </tr>\n",
       "    <tr>\n",
       "      <th>1</th>\n",
       "      <td>s3</td>\n",
       "      <td>Movie</td>\n",
       "      <td>23:59</td>\n",
       "      <td>Gilbert Chan</td>\n",
       "      <td>Tedd Chan, Stella Chung, Henley Hii, Lawrence ...</td>\n",
       "      <td>Singapore</td>\n",
       "      <td>2018-12-20</td>\n",
       "      <td>2011</td>\n",
       "      <td>78</td>\n",
       "      <td>When an army recruit is found dead, his fellow...</td>\n",
       "      <td>Horror Movies</td>\n",
       "    </tr>\n",
       "    <tr>\n",
       "      <th>5</th>\n",
       "      <td>s7</td>\n",
       "      <td>Movie</td>\n",
       "      <td>122</td>\n",
       "      <td>Yasir Al Yasiri</td>\n",
       "      <td>Amina Khalil, Ahmed Dawood, Tarek Lotfy, Ahmed...</td>\n",
       "      <td>Egypt</td>\n",
       "      <td>2020-06-01</td>\n",
       "      <td>2019</td>\n",
       "      <td>95</td>\n",
       "      <td>After an awful accident, a couple admitted to ...</td>\n",
       "      <td>Horror Movies</td>\n",
       "    </tr>\n",
       "    <tr>\n",
       "      <th>7</th>\n",
       "      <td>s9</td>\n",
       "      <td>Movie</td>\n",
       "      <td>706</td>\n",
       "      <td>Shravan Kumar</td>\n",
       "      <td>Divya Dutta, Atul Kulkarni, Mohan Agashe, Anup...</td>\n",
       "      <td>India</td>\n",
       "      <td>2019-04-01</td>\n",
       "      <td>2019</td>\n",
       "      <td>118</td>\n",
       "      <td>When a doctor goes missing, his psychiatrist w...</td>\n",
       "      <td>Horror Movies</td>\n",
       "    </tr>\n",
       "    <tr>\n",
       "      <th>9</th>\n",
       "      <td>s11</td>\n",
       "      <td>Movie</td>\n",
       "      <td>1922</td>\n",
       "      <td>Zak Hilditch</td>\n",
       "      <td>Thomas Jane, Molly Parker, Dylan Schmid, Kaitl...</td>\n",
       "      <td>United States</td>\n",
       "      <td>2017-10-20</td>\n",
       "      <td>2017</td>\n",
       "      <td>103</td>\n",
       "      <td>A farmer pens a confession admitting to his wi...</td>\n",
       "      <td>Dramas</td>\n",
       "    </tr>\n",
       "  </tbody>\n",
       "</table>\n",
       "</div>"
      ],
      "text/plain": [
       "  show_id   type  title           director  \\\n",
       "0      s2  Movie   7:19  Jorge Michel Grau   \n",
       "1      s3  Movie  23:59       Gilbert Chan   \n",
       "5      s7  Movie    122    Yasir Al Yasiri   \n",
       "7      s9  Movie    706      Shravan Kumar   \n",
       "9     s11  Movie   1922       Zak Hilditch   \n",
       "\n",
       "                                                cast        country  \\\n",
       "0  Demián Bichir, Héctor Bonilla, Oscar Serrano, ...         Mexico   \n",
       "1  Tedd Chan, Stella Chung, Henley Hii, Lawrence ...      Singapore   \n",
       "5  Amina Khalil, Ahmed Dawood, Tarek Lotfy, Ahmed...          Egypt   \n",
       "7  Divya Dutta, Atul Kulkarni, Mohan Agashe, Anup...          India   \n",
       "9  Thomas Jane, Molly Parker, Dylan Schmid, Kaitl...  United States   \n",
       "\n",
       "  date_added  release_year  duration  \\\n",
       "0 2016-12-23          2016        93   \n",
       "1 2018-12-20          2011        78   \n",
       "5 2020-06-01          2019        95   \n",
       "7 2019-04-01          2019       118   \n",
       "9 2017-10-20          2017       103   \n",
       "\n",
       "                                         description          genre  \n",
       "0  After a devastating earthquake hits Mexico Cit...         Dramas  \n",
       "1  When an army recruit is found dead, his fellow...  Horror Movies  \n",
       "5  After an awful accident, a couple admitted to ...  Horror Movies  \n",
       "7  When a doctor goes missing, his psychiatrist w...  Horror Movies  \n",
       "9  A farmer pens a confession admitting to his wi...         Dramas  "
      ]
     },
     "execution_count": 33,
     "metadata": {},
     "output_type": "execute_result"
    }
   ],
   "source": [
    "#Step 1 - Filter 2010 movies\n",
    "netflix_10 = netflix[(netflix['release_year'].between(2010, 2019)) & (netflix['type']== 'Movie')]\n",
    "netflix_10.head()"
   ]
  },
  {
   "cell_type": "code",
   "execution_count": 34,
   "id": "64a2ac70",
   "metadata": {
    "colab": {
     "base_uri": "https://localhost:8080/",
     "height": 147
    },
    "executionInfo": {
     "elapsed": 9,
     "status": "ok",
     "timestamp": 1748968343396,
     "user": {
      "displayName": "OLUWATOBI AFINTINNI",
      "userId": "05381180940816213032"
     },
     "user_tz": -60
    },
    "id": "64a2ac70",
    "outputId": "53ce0628-a386-49f2-8d1f-48da580dbbd5"
   },
   "outputs": [
    {
     "data": {
      "text/plain": [
       "genre\n",
       "Dramas    1031\n",
       "Name: count, dtype: int64"
      ]
     },
     "execution_count": 34,
     "metadata": {},
     "output_type": "execute_result"
    }
   ],
   "source": [
    "#Step 2 - count the frequency of movie genres\n",
    "netflix_10['genre'].value_counts().nlargest(1)\n",
    "\n",
    "#Most frequent movie genre in 2010's is 'Dramas' based on our result below"
   ]
  },
  {
   "cell_type": "markdown",
   "id": "70b7c909",
   "metadata": {
    "id": "70b7c909"
   },
   "source": [
    "Question 4- What is the average duration of movies and TV shows on Netflix?"
   ]
  },
  {
   "cell_type": "code",
   "execution_count": 35,
   "id": "3da7b0a7",
   "metadata": {
    "colab": {
     "base_uri": "https://localhost:8080/",
     "height": 178
    },
    "executionInfo": {
     "elapsed": 288,
     "status": "ok",
     "timestamp": 1748968343686,
     "user": {
      "displayName": "OLUWATOBI AFINTINNI",
      "userId": "05381180940816213032"
     },
     "user_tz": -60
    },
    "id": "3da7b0a7",
    "outputId": "01553066-5f71-40cb-aa2e-9c786f05b6d5"
   },
   "outputs": [
    {
     "data": {
      "text/plain": [
       "type\n",
       "Movie      102.38\n",
       "TV Show      1.94\n",
       "Name: duration, dtype: float64"
      ]
     },
     "execution_count": 35,
     "metadata": {},
     "output_type": "execute_result"
    }
   ],
   "source": [
    "avg_duration = netflix.groupby('type')['duration'].mean().round(2)\n",
    "avg_duration"
   ]
  },
  {
   "cell_type": "code",
   "execution_count": 36,
   "id": "ad39f956",
   "metadata": {
    "colab": {
     "base_uri": "https://localhost:8080/",
     "height": 143
    },
    "executionInfo": {
     "elapsed": 13,
     "status": "ok",
     "timestamp": 1748968343703,
     "user": {
      "displayName": "OLUWATOBI AFINTINNI",
      "userId": "05381180940816213032"
     },
     "user_tz": -60
    },
    "id": "ad39f956",
    "outputId": "01fc5ba6-3f31-4203-c09d-3f9dfa2f72fb"
   },
   "outputs": [
    {
     "data": {
      "text/html": [
       "<div>\n",
       "<style scoped>\n",
       "    .dataframe tbody tr th:only-of-type {\n",
       "        vertical-align: middle;\n",
       "    }\n",
       "\n",
       "    .dataframe tbody tr th {\n",
       "        vertical-align: top;\n",
       "    }\n",
       "\n",
       "    .dataframe thead th {\n",
       "        text-align: right;\n",
       "    }\n",
       "</style>\n",
       "<table border=\"1\" class=\"dataframe\">\n",
       "  <thead>\n",
       "    <tr style=\"text-align: right;\">\n",
       "      <th></th>\n",
       "      <th>sum</th>\n",
       "      <th>count</th>\n",
       "      <th>mean</th>\n",
       "      <th>median</th>\n",
       "    </tr>\n",
       "    <tr>\n",
       "      <th>type</th>\n",
       "      <th></th>\n",
       "      <th></th>\n",
       "      <th></th>\n",
       "      <th></th>\n",
       "    </tr>\n",
       "  </thead>\n",
       "  <tbody>\n",
       "    <tr>\n",
       "      <th>Movie</th>\n",
       "      <td>478853</td>\n",
       "      <td>4677</td>\n",
       "      <td>102.38</td>\n",
       "      <td>100.0</td>\n",
       "    </tr>\n",
       "    <tr>\n",
       "      <th>TV Show</th>\n",
       "      <td>262</td>\n",
       "      <td>135</td>\n",
       "      <td>1.94</td>\n",
       "      <td>1.0</td>\n",
       "    </tr>\n",
       "  </tbody>\n",
       "</table>\n",
       "</div>"
      ],
      "text/plain": [
       "            sum  count    mean  median\n",
       "type                                  \n",
       "Movie    478853   4677  102.38   100.0\n",
       "TV Show     262    135    1.94     1.0"
      ]
     },
     "execution_count": 36,
     "metadata": {},
     "output_type": "execute_result"
    }
   ],
   "source": [
    "#bonus. Lets do a multiple aggregation of the groups\n",
    "duration_stats = netflix.groupby('type')['duration'].agg(['sum', 'count', 'mean', 'median']).round(2)\n",
    "duration_stats"
   ]
  },
  {
   "cell_type": "markdown",
   "id": "0fd6285f",
   "metadata": {
    "id": "0fd6285f"
   },
   "source": [
    "## MORE QUESTIONS"
   ]
  },
  {
   "cell_type": "markdown",
   "id": "b0ef7662",
   "metadata": {
    "id": "b0ef7662"
   },
   "source": [
    "1.  Is there a relationship between release year and duration of movies?"
   ]
  },
  {
   "cell_type": "code",
   "execution_count": 37,
   "id": "8179d183",
   "metadata": {
    "colab": {
     "base_uri": "https://localhost:8080/"
    },
    "executionInfo": {
     "elapsed": 5182,
     "status": "ok",
     "timestamp": 1748968376266,
     "user": {
      "displayName": "OLUWATOBI AFINTINNI",
      "userId": "05381180940816213032"
     },
     "user_tz": -60
    },
    "id": "8179d183",
    "outputId": "227706b7-6966-4d0b-e0a3-04ce1066dff5"
   },
   "outputs": [
    {
     "data": {
      "text/plain": [
       "-0.22007069436434357"
      ]
     },
     "execution_count": 37,
     "metadata": {},
     "output_type": "execute_result"
    }
   ],
   "source": [
    "netflix['release_year'].corr(netflix['duration'])"
   ]
  },
  {
   "cell_type": "code",
   "execution_count": 38,
   "id": "i9wTZUZrLm9-",
   "metadata": {
    "colab": {
     "base_uri": "https://localhost:8080/"
    },
    "executionInfo": {
     "elapsed": 268,
     "status": "ok",
     "timestamp": 1748968380414,
     "user": {
      "displayName": "OLUWATOBI AFINTINNI",
      "userId": "05381180940816213032"
     },
     "user_tz": -60
    },
    "id": "i9wTZUZrLm9-",
    "outputId": "88fcf6e6-7ace-4137-92c2-6250b4bb0d30"
   },
   "outputs": [
    {
     "data": {
      "text/plain": [
       "(4677, 11)"
      ]
     },
     "execution_count": 38,
     "metadata": {},
     "output_type": "execute_result"
    }
   ],
   "source": [
    "movies = netflix[netflix['type']==\"Movie\"]\n",
    "movies.shape"
   ]
  },
  {
   "cell_type": "code",
   "execution_count": 39,
   "id": "F1aY7hhzL2MT",
   "metadata": {
    "colab": {
     "base_uri": "https://localhost:8080/"
    },
    "executionInfo": {
     "elapsed": 72,
     "status": "ok",
     "timestamp": 1748968387725,
     "user": {
      "displayName": "OLUWATOBI AFINTINNI",
      "userId": "05381180940816213032"
     },
     "user_tz": -60
    },
    "id": "F1aY7hhzL2MT",
    "outputId": "56f1b749-57e0-4258-bc7c-cf30b8df4325"
   },
   "outputs": [
    {
     "data": {
      "text/plain": [
       "-0.21375921672904624"
      ]
     },
     "execution_count": 39,
     "metadata": {},
     "output_type": "execute_result"
    }
   ],
   "source": [
    "movies['release_year'].corr(movies['duration'])"
   ]
  },
  {
   "cell_type": "code",
   "execution_count": 40,
   "id": "14bfbbf5",
   "metadata": {
    "executionInfo": {
     "elapsed": 5,
     "status": "ok",
     "timestamp": 1748968387733,
     "user": {
      "displayName": "OLUWATOBI AFINTINNI",
      "userId": "05381180940816213032"
     },
     "user_tz": -60
    },
    "id": "14bfbbf5"
   },
   "outputs": [],
   "source": [
    "#The result show a weak negative relationship between release year and duration.\n",
    "#This indicates that as the release year increases, (i.e., more recent), the duration of content tends to slightly decrease."
   ]
  },
  {
   "cell_type": "code",
   "execution_count": 41,
   "id": "ef3ae048",
   "metadata": {
    "colab": {
     "base_uri": "https://localhost:8080/",
     "height": 452
    },
    "executionInfo": {
     "elapsed": 3074,
     "status": "ok",
     "timestamp": 1748968390810,
     "user": {
      "displayName": "OLUWATOBI AFINTINNI",
      "userId": "05381180940816213032"
     },
     "user_tz": -60
    },
    "id": "ef3ae048",
    "outputId": "85b681d3-3f78-4fbe-e8c8-6f8c33526000"
   },
   "outputs": [
    {
     "data": {
      "image/png": "[encoded data removed]",
      "text/plain": [
       "<Figure size 640x480 with 1 Axes>"
      ]
     },
     "metadata": {},
     "output_type": "display_data"
    }
   ],
   "source": [
    "sns.scatterplot(data=netflix, x='release_year', y='duration', hue='type').set_title(\"Release year VS Duration\")\n",
    "#plt.title(\"Release year VS Duration\")\n",
    "plt.xlabel(\"\")\n",
    "plt.ylabel(\"\");"
   ]
  },
  {
   "cell_type": "markdown",
   "id": "sgKkeicANN6D",
   "metadata": {
    "id": "sgKkeicANN6D"
   },
   "source": [
    "***What is the trend in TV shows released over the years?***"
   ]
  },
  {
   "cell_type": "code",
   "execution_count": 42,
   "id": "jbAWWQ-7Job6",
   "metadata": {
    "executionInfo": {
     "elapsed": 3,
     "status": "ok",
     "timestamp": 1748968390819,
     "user": {
      "displayName": "OLUWATOBI AFINTINNI",
      "userId": "05381180940816213032"
     },
     "user_tz": -60
    },
    "id": "jbAWWQ-7Job6"
   },
   "outputs": [],
   "source": [
    "tv_shows = netflix[netflix['type']=='TV Show'].copy()"
   ]
  },
  {
   "cell_type": "code",
   "execution_count": 43,
   "id": "GNlJQ2F6NiLI",
   "metadata": {
    "colab": {
     "base_uri": "https://localhost:8080/",
     "height": 608
    },
    "executionInfo": {
     "elapsed": 11,
     "status": "ok",
     "timestamp": 1748968390833,
     "user": {
      "displayName": "OLUWATOBI AFINTINNI",
      "userId": "05381180940816213032"
     },
     "user_tz": -60
    },
    "id": "GNlJQ2F6NiLI",
    "outputId": "24fc5425-1454-489a-c1ac-caf312561de2"
   },
   "outputs": [
    {
     "data": {
      "text/html": [
       "<div>\n",
       "<style scoped>\n",
       "    .dataframe tbody tr th:only-of-type {\n",
       "        vertical-align: middle;\n",
       "    }\n",
       "\n",
       "    .dataframe tbody tr th {\n",
       "        vertical-align: top;\n",
       "    }\n",
       "\n",
       "    .dataframe thead th {\n",
       "        text-align: right;\n",
       "    }\n",
       "</style>\n",
       "<table border=\"1\" class=\"dataframe\">\n",
       "  <thead>\n",
       "    <tr style=\"text-align: right;\">\n",
       "      <th></th>\n",
       "      <th>show_id</th>\n",
       "      <th>type</th>\n",
       "      <th>title</th>\n",
       "      <th>director</th>\n",
       "      <th>cast</th>\n",
       "      <th>country</th>\n",
       "      <th>date_added</th>\n",
       "      <th>release_year</th>\n",
       "      <th>duration</th>\n",
       "      <th>description</th>\n",
       "      <th>genre</th>\n",
       "    </tr>\n",
       "  </thead>\n",
       "  <tbody>\n",
       "    <tr>\n",
       "      <th>4</th>\n",
       "      <td>s6</td>\n",
       "      <td>TV Show</td>\n",
       "      <td>46</td>\n",
       "      <td>Serdar Akar</td>\n",
       "      <td>Erdal Beşikçioğlu, Yasemin Allen, Melis Birkan...</td>\n",
       "      <td>Turkey</td>\n",
       "      <td>2017-07-01</td>\n",
       "      <td>2016</td>\n",
       "      <td>1</td>\n",
       "      <td>A genetics professor experiments with a treatm...</td>\n",
       "      <td>International TV</td>\n",
       "    </tr>\n",
       "    <tr>\n",
       "      <th>94</th>\n",
       "      <td>s133</td>\n",
       "      <td>TV Show</td>\n",
       "      <td>7 (Seven)</td>\n",
       "      <td>Nizar Shafi</td>\n",
       "      <td>Rahman, Havish, Regina Cassandra, Nandita Swet...</td>\n",
       "      <td>India</td>\n",
       "      <td>2019-07-30</td>\n",
       "      <td>2019</td>\n",
       "      <td>1</td>\n",
       "      <td>Multiple women report their husbands as missin...</td>\n",
       "      <td>TV Shows</td>\n",
       "    </tr>\n",
       "    <tr>\n",
       "      <th>151</th>\n",
       "      <td>s219</td>\n",
       "      <td>TV Show</td>\n",
       "      <td>A Queen Is Born</td>\n",
       "      <td>Carla Barros</td>\n",
       "      <td>Gloria Groove, Alexia Twister</td>\n",
       "      <td>Brazil</td>\n",
       "      <td>2020-11-11</td>\n",
       "      <td>2020</td>\n",
       "      <td>1</td>\n",
       "      <td>Gloria Groove and Alexia Twister make drag dre...</td>\n",
       "      <td>International TV</td>\n",
       "    </tr>\n",
       "    <tr>\n",
       "      <th>181</th>\n",
       "      <td>s261</td>\n",
       "      <td>TV Show</td>\n",
       "      <td>A.I.C.O.</td>\n",
       "      <td>Kazuya Murata</td>\n",
       "      <td>Haruka Shiraishi, Yusuke Kobayashi, Makoto Fur...</td>\n",
       "      <td>Japan</td>\n",
       "      <td>2018-03-09</td>\n",
       "      <td>2018</td>\n",
       "      <td>1</td>\n",
       "      <td>Everything Aiko knew was a lie. Now she's join...</td>\n",
       "      <td>Anime Series</td>\n",
       "    </tr>\n",
       "    <tr>\n",
       "      <th>197</th>\n",
       "      <td>s277</td>\n",
       "      <td>TV Show</td>\n",
       "      <td>Abby Hatcher</td>\n",
       "      <td>Kyran Kelly</td>\n",
       "      <td>Macy Drouin, Wyatt White, Paul Sun-Hyung Lee, ...</td>\n",
       "      <td>United States</td>\n",
       "      <td>2020-07-01</td>\n",
       "      <td>2019</td>\n",
       "      <td>1</td>\n",
       "      <td>A big-hearted girl helps her Fuzzly friends wh...</td>\n",
       "      <td>Kids</td>\n",
       "    </tr>\n",
       "  </tbody>\n",
       "</table>\n",
       "</div>"
      ],
      "text/plain": [
       "    show_id     type            title       director  \\\n",
       "4        s6  TV Show               46    Serdar Akar   \n",
       "94     s133  TV Show        7 (Seven)    Nizar Shafi   \n",
       "151    s219  TV Show  A Queen Is Born   Carla Barros   \n",
       "181    s261  TV Show         A.I.C.O.  Kazuya Murata   \n",
       "197    s277  TV Show     Abby Hatcher    Kyran Kelly   \n",
       "\n",
       "                                                  cast        country  \\\n",
       "4    Erdal Beşikçioğlu, Yasemin Allen, Melis Birkan...         Turkey   \n",
       "94   Rahman, Havish, Regina Cassandra, Nandita Swet...          India   \n",
       "151                      Gloria Groove, Alexia Twister         Brazil   \n",
       "181  Haruka Shiraishi, Yusuke Kobayashi, Makoto Fur...          Japan   \n",
       "197  Macy Drouin, Wyatt White, Paul Sun-Hyung Lee, ...  United States   \n",
       "\n",
       "    date_added  release_year  duration  \\\n",
       "4   2017-07-01          2016         1   \n",
       "94  2019-07-30          2019         1   \n",
       "151 2020-11-11          2020         1   \n",
       "181 2018-03-09          2018         1   \n",
       "197 2020-07-01          2019         1   \n",
       "\n",
       "                                           description             genre  \n",
       "4    A genetics professor experiments with a treatm...  International TV  \n",
       "94   Multiple women report their husbands as missin...          TV Shows  \n",
       "151  Gloria Groove and Alexia Twister make drag dre...  International TV  \n",
       "181  Everything Aiko knew was a lie. Now she's join...      Anime Series  \n",
       "197  A big-hearted girl helps her Fuzzly friends wh...              Kids  "
      ]
     },
     "execution_count": 43,
     "metadata": {},
     "output_type": "execute_result"
    }
   ],
   "source": [
    "tv_shows.head()"
   ]
  },
  {
   "cell_type": "code",
   "execution_count": 44,
   "id": "JezBx9jGNj7e",
   "metadata": {
    "colab": {
     "base_uri": "https://localhost:8080/"
    },
    "executionInfo": {
     "elapsed": 177,
     "status": "ok",
     "timestamp": 1748968391013,
     "user": {
      "displayName": "OLUWATOBI AFINTINNI",
      "userId": "05381180940816213032"
     },
     "user_tz": -60
    },
    "id": "JezBx9jGNj7e",
    "outputId": "c41f7110-716b-4e49-cf3c-f78092fcc2dd"
   },
   "outputs": [
    {
     "data": {
      "text/plain": [
       "(135, 11)"
      ]
     },
     "execution_count": 44,
     "metadata": {},
     "output_type": "execute_result"
    }
   ],
   "source": [
    "tv_shows.shape"
   ]
  },
  {
   "cell_type": "code",
   "execution_count": 45,
   "id": "pL7QtM-RNmjn",
   "metadata": {
    "colab": {
     "base_uri": "https://localhost:8080/",
     "height": 272
    },
    "executionInfo": {
     "elapsed": 10,
     "status": "ok",
     "timestamp": 1748968391027,
     "user": {
      "displayName": "OLUWATOBI AFINTINNI",
      "userId": "05381180940816213032"
     },
     "user_tz": -60
    },
    "id": "pL7QtM-RNmjn",
    "outputId": "54b45aea-f772-4810-9c3c-1c510393556f"
   },
   "outputs": [
    {
     "data": {
      "text/plain": [
       "genre\n",
       "International TV    39\n",
       "Crime TV            30\n",
       "British TV          20\n",
       "Kids                10\n",
       "Anime Series         9\n",
       "Name: count, dtype: int64"
      ]
     },
     "execution_count": 45,
     "metadata": {},
     "output_type": "execute_result"
    }
   ],
   "source": [
    "tv_shows['genre'].value_counts().nlargest(5)"
   ]
  },
  {
   "cell_type": "code",
   "execution_count": 46,
   "id": "sprMFAxHNzNy",
   "metadata": {
    "colab": {
     "base_uri": "https://localhost:8080/"
    },
    "executionInfo": {
     "elapsed": 232,
     "status": "ok",
     "timestamp": 1748968505329,
     "user": {
      "displayName": "OLUWATOBI AFINTINNI",
      "userId": "05381180940816213032"
     },
     "user_tz": -60
    },
    "id": "sprMFAxHNzNy",
    "outputId": "c26c9766-7aba-460c-8f21-927fe98a8554"
   },
   "outputs": [
    {
     "data": {
      "text/plain": [
       "2021"
      ]
     },
     "execution_count": 46,
     "metadata": {},
     "output_type": "execute_result"
    }
   ],
   "source": [
    "tv_shows['release_year'].max()"
   ]
  },
  {
   "cell_type": "code",
   "execution_count": 47,
   "id": "5j8MGVOROS4N",
   "metadata": {
    "colab": {
     "base_uri": "https://localhost:8080/"
    },
    "executionInfo": {
     "elapsed": 73,
     "status": "ok",
     "timestamp": 1748968514056,
     "user": {
      "displayName": "OLUWATOBI AFINTINNI",
      "userId": "05381180940816213032"
     },
     "user_tz": -60
    },
    "id": "5j8MGVOROS4N",
    "outputId": "393dd851-f743-4d2b-8cd9-c6e6d34baeed"
   },
   "outputs": [
    {
     "data": {
      "text/plain": [
       "(76, 11)"
      ]
     },
     "execution_count": 47,
     "metadata": {},
     "output_type": "execute_result"
    }
   ],
   "source": [
    "#TV Shows between 2018 and 2021\n",
    "tv_1821 = tv_shows[tv_shows['release_year'].between(2018,2021)]\n",
    "tv_1821.shape"
   ]
  },
  {
   "cell_type": "code",
   "execution_count": 48,
   "id": "PTmmkeTPOnUL",
   "metadata": {
    "colab": {
     "base_uri": "https://localhost:8080/",
     "height": 272
    },
    "executionInfo": {
     "elapsed": 163,
     "status": "ok",
     "timestamp": 1748968517839,
     "user": {
      "displayName": "OLUWATOBI AFINTINNI",
      "userId": "05381180940816213032"
     },
     "user_tz": -60
    },
    "id": "PTmmkeTPOnUL",
    "outputId": "82a93eae-fc76-4f80-ccb5-d5a275f3644f"
   },
   "outputs": [
    {
     "data": {
      "text/plain": [
       "genre\n",
       "International TV    24\n",
       "Crime TV            23\n",
       "British TV           7\n",
       "Kids                 4\n",
       "Stand-Up             4\n",
       "Name: count, dtype: int64"
      ]
     },
     "execution_count": 48,
     "metadata": {},
     "output_type": "execute_result"
    }
   ],
   "source": [
    "tv_1821['genre'].value_counts().nlargest(5)\n",
    "\n",
    "#between 2018 and 2021m this shows us the highest the 5 highest number of genre"
   ]
  },
  {
   "cell_type": "code",
   "execution_count": 49,
   "id": "WMfJUSkuOsTz",
   "metadata": {
    "colab": {
     "base_uri": "https://localhost:8080/"
    },
    "executionInfo": {
     "elapsed": 96,
     "status": "ok",
     "timestamp": 1748968523416,
     "user": {
      "displayName": "OLUWATOBI AFINTINNI",
      "userId": "05381180940816213032"
     },
     "user_tz": -60
    },
    "id": "WMfJUSkuOsTz",
    "outputId": "9d23b003-d8ec-4158-8aa7-2d085b304dff"
   },
   "outputs": [
    {
     "data": {
      "text/plain": [
       "1990"
      ]
     },
     "execution_count": 49,
     "metadata": {},
     "output_type": "execute_result"
    }
   ],
   "source": [
    "tv_shows['release_year'].min()"
   ]
  },
  {
   "cell_type": "code",
   "execution_count": 50,
   "id": "EOz1F8ExPAv4",
   "metadata": {
    "colab": {
     "base_uri": "https://localhost:8080/",
     "height": 272
    },
    "executionInfo": {
     "elapsed": 3400,
     "status": "ok",
     "timestamp": 1748968793131,
     "user": {
      "displayName": "OLUWATOBI AFINTINNI",
      "userId": "05381180940816213032"
     },
     "user_tz": -60
    },
    "id": "EOz1F8ExPAv4",
    "outputId": "cd4806cf-3c6b-49fb-fbce-ec0e7f757b32"
   },
   "outputs": [
    {
     "data": {
      "text/plain": [
       "country\n",
       "United States     17\n",
       "United Kingdom     9\n",
       "Taiwan             7\n",
       "Spain              6\n",
       "India              5\n",
       "Name: count, dtype: int64"
      ]
     },
     "execution_count": 50,
     "metadata": {},
     "output_type": "execute_result"
    }
   ],
   "source": [
    "tv_1821['country'].value_counts().nlargest(5)"
   ]
  },
  {
   "cell_type": "code",
   "execution_count": 51,
   "id": "1cMEFeTWPz-F",
   "metadata": {
    "colab": {
     "base_uri": "https://localhost:8080/",
     "height": 272
    },
    "executionInfo": {
     "elapsed": 10,
     "status": "ok",
     "timestamp": 1748968795937,
     "user": {
      "displayName": "OLUWATOBI AFINTINNI",
      "userId": "05381180940816213032"
     },
     "user_tz": -60
    },
    "id": "1cMEFeTWPz-F",
    "outputId": "ad1ad3ac-4785-4ef5-f522-49a007206640"
   },
   "outputs": [
    {
     "data": {
      "text/plain": [
       "country\n",
       "United States     30\n",
       "United Kingdom    22\n",
       "Japan             10\n",
       "South Korea       10\n",
       "Taiwan             7\n",
       "Name: count, dtype: int64"
      ]
     },
     "execution_count": 51,
     "metadata": {},
     "output_type": "execute_result"
    }
   ],
   "source": [
    "tv_shows['country'].value_counts().nlargest(5)"
   ]
  },
  {
   "cell_type": "code",
   "execution_count": null,
   "id": "N0lzGxybz-xc",
   "metadata": {
    "executionInfo": {
     "elapsed": 3,
     "status": "ok",
     "timestamp": 1748968795944,
     "user": {
      "displayName": "OLUWATOBI AFINTINNI",
      "userId": "05381180940816213032"
     },
     "user_tz": -60
    },
    "id": "N0lzGxybz-xc"
   },
   "outputs": [],
   "source": []
  },
  {
   "cell_type": "code",
   "execution_count": null,
   "id": "j-OY_gafz_2S",
   "metadata": {
    "executionInfo": {
     "elapsed": 7,
     "status": "ok",
     "timestamp": 1748968796170,
     "user": {
      "displayName": "OLUWATOBI AFINTINNI",
      "userId": "05381180940816213032"
     },
     "user_tz": -60
    },
    "id": "j-OY_gafz_2S"
   },
   "outputs": [],
   "source": []
  },
  {
   "cell_type": "markdown",
   "id": "A5N3NZqw0EMc",
   "metadata": {
    "id": "A5N3NZqw0EMc"
   },
   "source": [
    "# **Assignment - Analysis for 5 charts**"
   ]
  },
  {
   "cell_type": "markdown",
   "id": "5y9NV4Ph0Wk7",
   "metadata": {
    "id": "5y9NV4Ph0Wk7"
   },
   "source": [
    "Q1. Trend of Movie Releases overtime"
   ]
  },
  {
   "cell_type": "code",
   "execution_count": 52,
   "id": "7m7xqL26P9bs",
   "metadata": {
    "colab": {
     "base_uri": "https://localhost:8080/",
     "height": 585
    },
    "executionInfo": {
     "elapsed": 247,
     "status": "ok",
     "timestamp": 1748968805163,
     "user": {
      "displayName": "OLUWATOBI AFINTINNI",
      "userId": "05381180940816213032"
     },
     "user_tz": -60
    },
    "id": "7m7xqL26P9bs",
    "outputId": "91791073-e9ef-4dc4-c7b6-746d2c3b219d"
   },
   "outputs": [
    {
     "data": {
      "text/plain": [
       "release_year\n",
       "1990     1\n",
       "2001     1\n",
       "2006     3\n",
       "2010     1\n",
       "2011     2\n",
       "2012     4\n",
       "2013     3\n",
       "2014     7\n",
       "2015     9\n",
       "2016    10\n",
       "2017    18\n",
       "2018    17\n",
       "2019    24\n",
       "2020    34\n",
       "2021     1\n",
       "Name: count, dtype: int64"
      ]
     },
     "execution_count": 52,
     "metadata": {},
     "output_type": "execute_result"
    }
   ],
   "source": [
    "#1 No of shows for each year\n",
    "trend_ofshows = tv_shows['release_year'].value_counts().sort_index()\n",
    "trend_ofshows"
   ]
  },
  {
   "cell_type": "code",
   "execution_count": 53,
   "id": "gBbgmJ392qEF",
   "metadata": {
    "colab": {
     "base_uri": "https://localhost:8080/",
     "height": 507
    },
    "executionInfo": {
     "elapsed": 12,
     "status": "ok",
     "timestamp": 1748968809857,
     "user": {
      "displayName": "OLUWATOBI AFINTINNI",
      "userId": "05381180940816213032"
     },
     "user_tz": -60
    },
    "id": "gBbgmJ392qEF",
    "outputId": "72b24de8-28ad-4cfe-f0ec-682ee2b80b01"
   },
   "outputs": [
    {
     "data": {
      "image/png": "[encoded data removed]",
      "text/plain": [
       "<Figure size 1000x500 with 1 Axes>"
      ]
     },
     "metadata": {},
     "output_type": "display_data"
    }
   ],
   "source": [
    "#Plotting our chart\n",
    "plt.figure(figsize=(10, 5))\n",
    "plt.plot(trend_ofshows.index, trend_ofshows.values, marker='o')\n",
    "plt.xlabel('Release Year')\n",
    "plt.ylabel('Number of TV Shows')\n",
    "plt.title('Trend of TV Shows Released Over the Years')\n",
    "plt.grid(True)\n",
    "plt.tight_layout()\n",
    "plt.show()"
   ]
  },
  {
   "cell_type": "markdown",
   "id": "4ED7n_5YAQ84",
   "metadata": {
    "id": "4ED7n_5YAQ84"
   },
   "source": [
    "# Q2- What are the Top 5 countries producing movies?\n",
    "\n"
   ]
  },
  {
   "cell_type": "code",
   "execution_count": 103,
   "id": "iS2B-mjpVJR_",
   "metadata": {
    "colab": {
     "base_uri": "https://localhost:8080/",
     "height": 429
    },
    "executionInfo": {
     "elapsed": 131,
     "status": "ok",
     "timestamp": 1748968843930,
     "user": {
      "displayName": "OLUWATOBI AFINTINNI",
      "userId": "05381180940816213032"
     },
     "user_tz": -60
    },
    "id": "iS2B-mjpVJR_",
    "outputId": "d5139ed1-2e79-46cd-bb96-f1f4fd12cefe"
   },
   "outputs": [
    {
     "data": {
      "text/plain": [
       "country\n",
       "France             129\n",
       "Canada             151\n",
       "United Kingdom     289\n",
       "India              858\n",
       "United States     1856\n",
       "Name: count, dtype: int64"
      ]
     },
     "execution_count": 103,
     "metadata": {},
     "output_type": "execute_result"
    }
   ],
   "source": [
    "top_5_country = movies['country'].value_counts().nlargest(5).sort_values()\n",
    "top_5_country"
   ]
  },
  {
   "cell_type": "code",
   "execution_count": 104,
   "id": "5Yf_-yclf-UZ",
   "metadata": {
    "executionInfo": {
     "elapsed": 80,
     "status": "ok",
     "timestamp": 1748968852531,
     "user": {
      "displayName": "OLUWATOBI AFINTINNI",
      "userId": "05381180940816213032"
     },
     "user_tz": -60
    },
    "id": "5Yf_-yclf-UZ"
   },
   "outputs": [],
   "source": [
    "#Charting our result above\n",
    "x = top_5_country.index\n",
    "y = top_5_country.values"
   ]
  },
  {
   "cell_type": "code",
   "execution_count": 106,
   "id": "nVwYdhMWhIWz",
   "metadata": {
    "colab": {
     "base_uri": "https://localhost:8080/",
     "height": 470
    },
    "executionInfo": {
     "elapsed": 168,
     "status": "ok",
     "timestamp": 1748968859056,
     "user": {
      "displayName": "OLUWATOBI AFINTINNI",
      "userId": "05381180940816213032"
     },
     "user_tz": -60
    },
    "id": "nVwYdhMWhIWz",
    "outputId": "e192dc9d-bbc0-45e0-dc01-956a97b47696"
   },
   "outputs": [
    {
     "data": {
      "text/plain": [
       "Text(0.5, 1.0, 'Top 5 Countries producing movies')"
      ]
     },
     "execution_count": 106,
     "metadata": {},
     "output_type": "execute_result"
    },
    {
     "data": {
      "image/png": "[encoded data removed]",
      "text/plain": [
       "<Figure size 640x480 with 1 Axes>"
      ]
     },
     "metadata": {},
     "output_type": "display_data"
    }
   ],
   "source": [
    "#Bar chart\n",
    "plt.barh(x,y, color=['grey', 'grey', 'grey','grey', 'blue'])\n",
    "plt.title(\"Top 5 Countries producing movies\")"
   ]
  },
  {
   "cell_type": "markdown",
   "id": "8da8iTKPj0aN",
   "metadata": {
    "id": "8da8iTKPj0aN"
   },
   "source": [
    "# **Q3- Most Popular Genres in 1990s Movies**"
   ]
  },
  {
   "cell_type": "code",
   "execution_count": 57,
   "id": "P94WpV72jyPm",
   "metadata": {
    "colab": {
     "base_uri": "https://localhost:8080/",
     "height": 694
    },
    "executionInfo": {
     "elapsed": 50,
     "status": "ok",
     "timestamp": 1748968869876,
     "user": {
      "displayName": "OLUWATOBI AFINTINNI",
      "userId": "05381180940816213032"
     },
     "user_tz": -60
    },
    "id": "P94WpV72jyPm",
    "outputId": "7b118645-eb7e-4083-ff9d-4ab906f4a7ce"
   },
   "outputs": [
    {
     "data": {
      "text/html": [
       "<div>\n",
       "<style scoped>\n",
       "    .dataframe tbody tr th:only-of-type {\n",
       "        vertical-align: middle;\n",
       "    }\n",
       "\n",
       "    .dataframe tbody tr th {\n",
       "        vertical-align: top;\n",
       "    }\n",
       "\n",
       "    .dataframe thead th {\n",
       "        text-align: right;\n",
       "    }\n",
       "</style>\n",
       "<table border=\"1\" class=\"dataframe\">\n",
       "  <thead>\n",
       "    <tr style=\"text-align: right;\">\n",
       "      <th></th>\n",
       "      <th>show_id</th>\n",
       "      <th>type</th>\n",
       "      <th>title</th>\n",
       "      <th>director</th>\n",
       "      <th>cast</th>\n",
       "      <th>country</th>\n",
       "      <th>date_added</th>\n",
       "      <th>release_year</th>\n",
       "      <th>duration</th>\n",
       "      <th>description</th>\n",
       "      <th>genre</th>\n",
       "    </tr>\n",
       "  </thead>\n",
       "  <tbody>\n",
       "    <tr>\n",
       "      <th>6</th>\n",
       "      <td>s8</td>\n",
       "      <td>Movie</td>\n",
       "      <td>187</td>\n",
       "      <td>Kevin Reynolds</td>\n",
       "      <td>Samuel L. Jackson, John Heard, Kelly Rowan, Cl...</td>\n",
       "      <td>United States</td>\n",
       "      <td>2019-11-01</td>\n",
       "      <td>1997</td>\n",
       "      <td>119</td>\n",
       "      <td>After one of his high school students attacks ...</td>\n",
       "      <td>Dramas</td>\n",
       "    </tr>\n",
       "    <tr>\n",
       "      <th>118</th>\n",
       "      <td>s167</td>\n",
       "      <td>Movie</td>\n",
       "      <td>A Dangerous Woman</td>\n",
       "      <td>Stephen Gyllenhaal</td>\n",
       "      <td>Debra Winger, Barbara Hershey, Gabriel Byrne, ...</td>\n",
       "      <td>United States</td>\n",
       "      <td>2018-04-01</td>\n",
       "      <td>1993</td>\n",
       "      <td>101</td>\n",
       "      <td>At the center of this engrossing melodrama is ...</td>\n",
       "      <td>Dramas</td>\n",
       "    </tr>\n",
       "    <tr>\n",
       "      <th>145</th>\n",
       "      <td>s211</td>\n",
       "      <td>Movie</td>\n",
       "      <td>A Night at the Roxbury</td>\n",
       "      <td>John Fortenberry</td>\n",
       "      <td>Will Ferrell, Chris Kattan, Dan Hedaya, Molly ...</td>\n",
       "      <td>United States</td>\n",
       "      <td>2019-12-01</td>\n",
       "      <td>1998</td>\n",
       "      <td>82</td>\n",
       "      <td>After a run-in with Richard Grieco, dimwits Do...</td>\n",
       "      <td>Comedies</td>\n",
       "    </tr>\n",
       "    <tr>\n",
       "      <th>167</th>\n",
       "      <td>s239</td>\n",
       "      <td>Movie</td>\n",
       "      <td>A Thin Line Between Love &amp; Hate</td>\n",
       "      <td>Martin Lawrence</td>\n",
       "      <td>Martin Lawrence, Lynn Whitfield, Regina King, ...</td>\n",
       "      <td>United States</td>\n",
       "      <td>2020-12-01</td>\n",
       "      <td>1996</td>\n",
       "      <td>108</td>\n",
       "      <td>When a philandering club promoter sets out to ...</td>\n",
       "      <td>Comedies</td>\n",
       "    </tr>\n",
       "    <tr>\n",
       "      <th>194</th>\n",
       "      <td>s274</td>\n",
       "      <td>Movie</td>\n",
       "      <td>Aashik Awara</td>\n",
       "      <td>Umesh Mehra</td>\n",
       "      <td>Saif Ali Khan, Mamta Kulkarni, Mohnish Bahl, S...</td>\n",
       "      <td>India</td>\n",
       "      <td>2017-06-01</td>\n",
       "      <td>1993</td>\n",
       "      <td>154</td>\n",
       "      <td>Raised by a kindly thief, orphaned Jimmy goes ...</td>\n",
       "      <td>Dramas</td>\n",
       "    </tr>\n",
       "  </tbody>\n",
       "</table>\n",
       "</div>"
      ],
      "text/plain": [
       "    show_id   type                            title            director  \\\n",
       "6        s8  Movie                              187      Kevin Reynolds   \n",
       "118    s167  Movie                A Dangerous Woman  Stephen Gyllenhaal   \n",
       "145    s211  Movie           A Night at the Roxbury    John Fortenberry   \n",
       "167    s239  Movie  A Thin Line Between Love & Hate     Martin Lawrence   \n",
       "194    s274  Movie                     Aashik Awara         Umesh Mehra   \n",
       "\n",
       "                                                  cast        country  \\\n",
       "6    Samuel L. Jackson, John Heard, Kelly Rowan, Cl...  United States   \n",
       "118  Debra Winger, Barbara Hershey, Gabriel Byrne, ...  United States   \n",
       "145  Will Ferrell, Chris Kattan, Dan Hedaya, Molly ...  United States   \n",
       "167  Martin Lawrence, Lynn Whitfield, Regina King, ...  United States   \n",
       "194  Saif Ali Khan, Mamta Kulkarni, Mohnish Bahl, S...          India   \n",
       "\n",
       "    date_added  release_year  duration  \\\n",
       "6   2019-11-01          1997       119   \n",
       "118 2018-04-01          1993       101   \n",
       "145 2019-12-01          1998        82   \n",
       "167 2020-12-01          1996       108   \n",
       "194 2017-06-01          1993       154   \n",
       "\n",
       "                                           description     genre  \n",
       "6    After one of his high school students attacks ...    Dramas  \n",
       "118  At the center of this engrossing melodrama is ...    Dramas  \n",
       "145  After a run-in with Richard Grieco, dimwits Do...  Comedies  \n",
       "167  When a philandering club promoter sets out to ...  Comedies  \n",
       "194  Raised by a kindly thief, orphaned Jimmy goes ...    Dramas  "
      ]
     },
     "execution_count": 57,
     "metadata": {},
     "output_type": "execute_result"
    }
   ],
   "source": [
    "#Step 1 - Filter out movies released in the 90's\n",
    "netflix_90s= netflix[netflix['release_year'].between(1990, 1999)]\n",
    "netflix_90s.head()"
   ]
  },
  {
   "cell_type": "code",
   "execution_count": 58,
   "id": "Q7NdZDlLhIBh",
   "metadata": {
    "colab": {
     "base_uri": "https://localhost:8080/",
     "height": 272
    },
    "executionInfo": {
     "elapsed": 287,
     "status": "ok",
     "timestamp": 1748968892908,
     "user": {
      "displayName": "OLUWATOBI AFINTINNI",
      "userId": "05381180940816213032"
     },
     "user_tz": -60
    },
    "id": "Q7NdZDlLhIBh",
    "outputId": "c2e5dfc0-d37e-426b-df12-16fdf9313586"
   },
   "outputs": [
    {
     "data": {
      "text/plain": [
       "genre\n",
       "Children          15\n",
       "Classic Movies    15\n",
       "Comedies          40\n",
       "Dramas            44\n",
       "Action            48\n",
       "Name: count, dtype: int64"
      ]
     },
     "execution_count": 58,
     "metadata": {},
     "output_type": "execute_result"
    }
   ],
   "source": [
    "pop_genre = netflix_90s['genre'].value_counts().nlargest().sort_values()\n",
    "pop_genre"
   ]
  },
  {
   "cell_type": "code",
   "execution_count": 59,
   "id": "STi2rva8kUG6",
   "metadata": {
    "executionInfo": {
     "elapsed": 6,
     "status": "ok",
     "timestamp": 1748968898833,
     "user": {
      "displayName": "OLUWATOBI AFINTINNI",
      "userId": "05381180940816213032"
     },
     "user_tz": -60
    },
    "id": "STi2rva8kUG6"
   },
   "outputs": [],
   "source": [
    "#Plotting out analysis\n",
    "x_pop = pop_genre.index\n",
    "y_pop = pop_genre.values"
   ]
  },
  {
   "cell_type": "code",
   "execution_count": 60,
   "id": "EtGx5rJDkUo4",
   "metadata": {
    "colab": {
     "base_uri": "https://localhost:8080/",
     "height": 469
    },
    "executionInfo": {
     "elapsed": 84,
     "status": "ok",
     "timestamp": 1748968906688,
     "user": {
      "displayName": "OLUWATOBI AFINTINNI",
      "userId": "05381180940816213032"
     },
     "user_tz": -60
    },
    "id": "EtGx5rJDkUo4",
    "outputId": "b03d6a77-5815-4212-e208-4e2fc12c08f0"
   },
   "outputs": [
    {
     "data": {
      "text/plain": [
       "Text(0.5, 1.0, \"Most popular Genres in the 90's\")"
      ]
     },
     "execution_count": 60,
     "metadata": {},
     "output_type": "execute_result"
    },
    {
     "data": {
      "image/png": "[encoded data removed]",
      "text/plain": [
       "<Figure size 640x480 with 1 Axes>"
      ]
     },
     "metadata": {},
     "output_type": "display_data"
    }
   ],
   "source": [
    "plt.barh(x_pop, y_pop, color=['grey', 'grey', 'grey','grey', 'blue'])\n",
    "plt.title(\"Most popular Genres in the 90's\")"
   ]
  },
  {
   "cell_type": "markdown",
   "id": "O_DZBmpHmJZm",
   "metadata": {
    "id": "O_DZBmpHmJZm"
   },
   "source": [
    "# **Q4- Top 5 Most Frequent Cast Members**"
   ]
  },
  {
   "cell_type": "code",
   "execution_count": 98,
   "id": "s1FTgOvTkTEe",
   "metadata": {
    "colab": {
     "base_uri": "https://localhost:8080/",
     "height": 458
    },
    "executionInfo": {
     "elapsed": 58,
     "status": "ok",
     "timestamp": 1748968926443,
     "user": {
      "displayName": "OLUWATOBI AFINTINNI",
      "userId": "05381180940816213032"
     },
     "user_tz": -60
    },
    "id": "s1FTgOvTkTEe",
    "outputId": "d6f9c87d-0472-4796-bfa9-d43130b271c2"
   },
   "outputs": [
    {
     "data": {
      "text/plain": [
       "0               Demián Bichir\n",
       "0              Héctor Bonilla\n",
       "0               Oscar Serrano\n",
       "0                Azalia Ortiz\n",
       "0              Octavio Michel\n",
       "                ...          \n",
       "4811         Manish Chaudhary\n",
       "4811             Meghna Malik\n",
       "4811            Malkeet Rauni\n",
       "4811           Anita Shabdish\n",
       "4811    Chittaranjan Tripathy\n",
       "Name: cast, Length: 37956, dtype: object"
      ]
     },
     "execution_count": 98,
     "metadata": {},
     "output_type": "execute_result"
    }
   ],
   "source": [
    "#Our cast field has several casts on the same field. We need to split the column and use the explode function\n",
    "split_cast = netflix['cast'].str.split(', ').explode()\n",
    "split_cast"
   ]
  },
  {
   "cell_type": "code",
   "execution_count": 99,
   "id": "_65_hbrlkST7",
   "metadata": {
    "colab": {
     "base_uri": "https://localhost:8080/",
     "height": 429
    },
    "executionInfo": {
     "elapsed": 1305,
     "status": "ok",
     "timestamp": 1748969046604,
     "user": {
      "displayName": "OLUWATOBI AFINTINNI",
      "userId": "05381180940816213032"
     },
     "user_tz": -60
    },
    "id": "_65_hbrlkST7",
    "outputId": "1f76c99d-2729-4e98-f4ea-f6e642f310b6"
   },
   "outputs": [
    {
     "data": {
      "text/plain": [
       "cast\n",
       "Akshay Kumar        29\n",
       "Naseeruddin Shah    29\n",
       "Om Puri             30\n",
       "Shah Rukh Khan      34\n",
       "Anupam Kher         41\n",
       "Name: count, dtype: int64"
      ]
     },
     "execution_count": 99,
     "metadata": {},
     "output_type": "execute_result"
    }
   ],
   "source": [
    "most_freq = split_cast.value_counts().nlargest(5).sort_values()\n",
    "most_freq"
   ]
  },
  {
   "cell_type": "code",
   "execution_count": 108,
   "id": "xBFzma62qTRH",
   "metadata": {
    "colab": {
     "base_uri": "https://localhost:8080/",
     "height": 452
    },
    "executionInfo": {
     "elapsed": 4571,
     "status": "ok",
     "timestamp": 1748969051642,
     "user": {
      "displayName": "OLUWATOBI AFINTINNI",
      "userId": "05381180940816213032"
     },
     "user_tz": -60
    },
    "id": "xBFzma62qTRH",
    "outputId": "fe687b04-c87e-4a49-e48e-d05ad9a6ddf7"
   },
   "outputs": [
    {
     "data": {
      "text/plain": [
       "Text(0.5, 1.0, 'Top 5 most frequent cast members')"
      ]
     },
     "execution_count": 108,
     "metadata": {},
     "output_type": "execute_result"
    },
    {
     "data": {
      "image/png": "[encoded data removed]",
      "text/plain": [
       "<Figure size 640x480 with 1 Axes>"
      ]
     },
     "metadata": {},
     "output_type": "display_data"
    }
   ],
   "source": [
    "x_cast = most_freq.index\n",
    "y_cast = most_freq.values\n",
    "\n",
    "plt.barh(x_cast, y_cast, color=['grey', 'grey','grey', 'grey', 'blue'])\n",
    "plt.title(\"Top 5 most frequent cast members\")"
   ]
  },
  {
   "cell_type": "markdown",
   "id": "ozB3F5PzsOTL",
   "metadata": {
    "id": "ozB3F5PzsOTL"
   },
   "source": [
    "# **Q5 - Action vs Drama: Movie Duration Comparison**"
   ]
  },
  {
   "cell_type": "code",
   "execution_count": 64,
   "id": "S-sSKb-UsIy4",
   "metadata": {
    "executionInfo": {
     "elapsed": 5,
     "status": "ok",
     "timestamp": 1748969062495,
     "user": {
      "displayName": "OLUWATOBI AFINTINNI",
      "userId": "05381180940816213032"
     },
     "user_tz": -60
    },
    "id": "S-sSKb-UsIy4"
   },
   "outputs": [],
   "source": [
    "action_dramas = movies[movies['genre'].isin(['Action','Dramas'])]"
   ]
  },
  {
   "cell_type": "code",
   "execution_count": 65,
   "id": "gH9m_wBjsINj",
   "metadata": {
    "colab": {
     "base_uri": "https://localhost:8080/",
     "height": 175
    },
    "executionInfo": {
     "elapsed": 691,
     "status": "ok",
     "timestamp": 1748969083424,
     "user": {
      "displayName": "OLUWATOBI AFINTINNI",
      "userId": "05381180940816213032"
     },
     "user_tz": -60
    },
    "id": "gH9m_wBjsINj",
    "outputId": "b8ce3d60-10b4-4839-cb9c-bbf40745e173"
   },
   "outputs": [
    {
     "data": {
      "text/html": [
       "<div>\n",
       "<style scoped>\n",
       "    .dataframe tbody tr th:only-of-type {\n",
       "        vertical-align: middle;\n",
       "    }\n",
       "\n",
       "    .dataframe tbody tr th {\n",
       "        vertical-align: top;\n",
       "    }\n",
       "\n",
       "    .dataframe thead tr th {\n",
       "        text-align: left;\n",
       "    }\n",
       "\n",
       "    .dataframe thead tr:last-of-type th {\n",
       "        text-align: right;\n",
       "    }\n",
       "</style>\n",
       "<table border=\"1\" class=\"dataframe\">\n",
       "  <thead>\n",
       "    <tr>\n",
       "      <th></th>\n",
       "      <th colspan=\"4\" halign=\"left\">duration</th>\n",
       "    </tr>\n",
       "    <tr>\n",
       "      <th></th>\n",
       "      <th>min</th>\n",
       "      <th>max</th>\n",
       "      <th>mean</th>\n",
       "      <th>median</th>\n",
       "    </tr>\n",
       "    <tr>\n",
       "      <th>genre</th>\n",
       "      <th></th>\n",
       "      <th></th>\n",
       "      <th></th>\n",
       "      <th></th>\n",
       "    </tr>\n",
       "  </thead>\n",
       "  <tbody>\n",
       "    <tr>\n",
       "      <th>Action</th>\n",
       "      <td>40</td>\n",
       "      <td>214</td>\n",
       "      <td>113.158046</td>\n",
       "      <td>107.5</td>\n",
       "    </tr>\n",
       "    <tr>\n",
       "      <th>Dramas</th>\n",
       "      <td>8</td>\n",
       "      <td>224</td>\n",
       "      <td>111.796724</td>\n",
       "      <td>108.0</td>\n",
       "    </tr>\n",
       "  </tbody>\n",
       "</table>\n",
       "</div>"
      ],
      "text/plain": [
       "       duration                        \n",
       "            min  max        mean median\n",
       "genre                                  \n",
       "Action       40  214  113.158046  107.5\n",
       "Dramas        8  224  111.796724  108.0"
      ]
     },
     "execution_count": 65,
     "metadata": {},
     "output_type": "execute_result"
    }
   ],
   "source": [
    "action_dramas.groupby('genre').agg({'duration':['min','max','mean','median']})"
   ]
  },
  {
   "cell_type": "code",
   "execution_count": 119,
   "id": "0c550e6f",
   "metadata": {},
   "outputs": [
    {
     "data": {
      "text/plain": [
       "array(['Dramas', 'Action'], dtype=object)"
      ]
     },
     "execution_count": 119,
     "metadata": {},
     "output_type": "execute_result"
    }
   ],
   "source": [
    "action_dramas['genre'].unique()"
   ]
  },
  {
   "cell_type": "code",
   "execution_count": 67,
   "id": "3FgUyp4TsHmV",
   "metadata": {
    "colab": {
     "base_uri": "https://localhost:8080/",
     "height": 429
    },
    "executionInfo": {
     "elapsed": 149,
     "status": "ok",
     "timestamp": 1748969085386,
     "user": {
      "displayName": "OLUWATOBI AFINTINNI",
      "userId": "05381180940816213032"
     },
     "user_tz": -60
    },
    "id": "3FgUyp4TsHmV",
    "outputId": "a973f9d1-4575-40fa-e563-04af4344c5db"
   },
   "outputs": [
    {
     "data": {
      "text/plain": [
       "<Axes: ylabel='duration'>"
      ]
     },
     "execution_count": 67,
     "metadata": {},
     "output_type": "execute_result"
    },
    {
     "data": {
      "image/png": "[encoded data removed]",
      "text/plain": [
       "<Figure size 640x480 with 1 Axes>"
      ]
     },
     "metadata": {},
     "output_type": "display_data"
    }
   ],
   "source": [
    "sns.boxplot(data=action_dramas, y='duration', hue='genre')"
   ]
  },
  {
   "cell_type": "markdown",
   "id": "Eg_9s29BewCv",
   "metadata": {
    "id": "Eg_9s29BewCv"
   },
   "source": [
    "# Q6 - How Average Duration of Action & Comedy Movies Changed Over the 1990s"
   ]
  },
  {
   "cell_type": "code",
   "execution_count": 68,
   "id": "XSe75F2OsG82",
   "metadata": {
    "colab": {
     "base_uri": "https://localhost:8080/",
     "height": 438
    },
    "executionInfo": {
     "elapsed": 472,
     "status": "ok",
     "timestamp": 1748971885860,
     "user": {
      "displayName": "OLUWATOBI AFINTINNI",
      "userId": "05381180940816213032"
     },
     "user_tz": -60
    },
    "id": "XSe75F2OsG82",
    "outputId": "c76bb502-ec3b-4f46-eb67-ce4ca5a3267b"
   },
   "outputs": [
    {
     "data": {
      "image/png": "[encoded data removed]",
      "text/plain": [
       "<Figure size 1000x600 with 1 Axes>"
      ]
     },
     "metadata": {},
     "output_type": "display_data"
    }
   ],
   "source": [
    "#Filter 90's netflix dataframe for Action and comedy genre\n",
    "netflix_90s_com_act = netflix_90s[netflix_90s['genre'].isin(['Action', 'Comedies'])]\n",
    "\n",
    "# Group by year and genre, then calculate the average\n",
    "duratn_by_genre_year = netflix_90s_com_act.groupby(['release_year', 'genre'])['duration'].median().unstack()\n",
    "\n",
    "#plotting chart\n",
    "duratn_by_genre_year.plot(kind='line', figsize=(10, 6), marker='o')\n",
    "\n",
    "# Customize the plot\n",
    "plt.title('Average Duration of Action vs Comedies (1990s)')\n",
    "plt.xlabel('Release Year')\n",
    "plt.ylabel('Average Duration (minutes)')\n",
    "plt.grid(True)\n",
    "plt.legend(title='Genre')\n",
    "plt.xticks(rotation=45)\n",
    "plt.show()"
   ]
  },
  {
   "cell_type": "markdown",
   "id": "T2j1tQrA3GzI",
   "metadata": {
    "id": "T2j1tQrA3GzI"
   },
   "source": [
    "# DASHBOARD CREATION"
   ]
  },
  {
   "cell_type": "code",
   "execution_count": 69,
   "id": "tmimyi8de068",
   "metadata": {
    "colab": {
     "base_uri": "https://localhost:8080/",
     "height": 219
    },
    "executionInfo": {
     "elapsed": 437,
     "status": "error",
     "timestamp": 1748982236217,
     "user": {
      "displayName": "OLUWATOBI AFINTINNI",
      "userId": "05381180940816213032"
     },
     "user_tz": -60
    },
    "id": "tmimyi8de068",
    "outputId": "1a6aea01-dc92-495a-fdc6-f0eb889513fa"
   },
   "outputs": [
    {
     "data": {
      "image/png": "[encoded data removed]",
      "text/plain": [
       "<Figure size 700x500 with 1 Axes>"
      ]
     },
     "metadata": {},
     "output_type": "display_data"
    }
   ],
   "source": [
    "fig, ax = plt.subplots(figsize = (7, 5))\n",
    "\n",
    "trend = ax.plot(trend_ofshows.index, trend_ofshows.values, marker='o')\n",
    "plt.xlabel('Release Year')\n",
    "plt.ylabel('Number of TV Shows')\n",
    "plt.title('Trend of TV Shows Released Over the Years')\n",
    "plt.show()"
   ]
  },
  {
   "cell_type": "code",
   "execution_count": 153,
   "id": "F8Fa0k-C34np",
   "metadata": {
    "id": "F8Fa0k-C34np"
   },
   "outputs": [
    {
     "data": {
      "image/png": "[encoded data removed]",
      "text/plain": [
       "<Figure size 1200x1200 with 6 Axes>"
      ]
     },
     "metadata": {},
     "output_type": "display_data"
    }
   ],
   "source": [
    "fig, axs = plt.subplots(figsize = (12, 12), nrows= 3, ncols=2)\n",
    "fig.suptitle(\"Netflix Dashboard 2025\")\n",
    "fig.subplots_adjust(hspace=0.8)\n",
    "\n",
    "#TV SHOWS OVERTIME\n",
    "axs[0, 0].plot(trend_ofshows.index, trend_ofshows.values, marker='o', color = 'steelblue')\n",
    "axs[0, 0].set_title('Trend of TV Shows Released Over the Years')\n",
    "\n",
    "#CHART 2: TOP 5 COUNTRIES PRODUCING MOVIES \n",
    "bars = axs[0, 1].barh(top_5_country.index, top_5_country.values, color=['grey', 'grey','grey', 'grey', 'steelblue'])\n",
    "axs[0, 1].bar_label(bars, labels=top_5_country.values.round(2))\n",
    "axs[0, 1].set_title(\"Top 5 Countries Producing Movies\")\n",
    "\n",
    "\n",
    "#CHART 3: Most Popular Genres in the 90s\n",
    "bars = axs[1, 0].barh(pop_genre.index, pop_genre.values, color=['grey', 'grey','grey', 'grey', 'steelblue'])\n",
    "axs[1, 0].bar_label(bars, labels=pop_genre.values.round(2))\n",
    "axs[1, 0].set_title(\"Most Popular Genres in the 90s\")\n",
    "\n",
    "\n",
    "#CHART 4: Top 5 Most Frequent Cast Members\n",
    "bars = axs[1,1].barh(most_freq.index, most_freq.values, color=['grey', 'grey','grey', 'grey', 'steelblue'])\n",
    "axs[1,1].bar_label(bars, labels = most_freq.values.round(2))\n",
    "axs[1,1].set_title(\"Top 5 Most Frequent Cast Members\")\n",
    "\n",
    "#CHART 5: Action vs Drama: Movie Duration Comparison\n",
    "sns.boxplot(data=action_dramas, x='genre', y='duration', ax=axs[2, 0], palette={'Action': 'steelblue', 'Dramas': 'grey'})\n",
    "axs[2, 0].set_title(\"Movie Duration Comparison: Action vs Dramas\")\n",
    "axs[2, 0].set_ylabel(\"Duration (minutes)\")\n",
    "\n",
    "\n",
    "#CHART 6: How Average Duration of Action & Comedy Movies Changed Over the 1990s\n",
    "duratn_by_genre_year.plot(kind='line', marker='o', ax=axs[2, 1], color=['steelblue', 'grey'])\n",
    "axs[2, 1].set_title('Average Duration: Action vs Comedies (1990s)')\n",
    "axs[2, 1].legend(title='Genre')\n",
    "axs[2, 1].tick_params(axis='x', rotation=45)\n",
    "\n",
    "#CREATING SPACE BETWEEN CHARTS\n",
    "plt.tight_layout(rect=[0, 0.03, 1, 0.95])\n",
    "\n",
    "#GETTING RID OF SPINES\n",
    "for spine in axs[2,1].spines.values():\n",
    "    spine.set_visible(False)\n",
    "\n",
    "for spine in axs[0,0].spines.values():\n",
    "    spine.set_visible(False)\n",
    "\n",
    "for spine in axs[1,0].spines.values():\n",
    "    spine.set_visible(False)\n",
    "\n",
    "for spine in axs[1,1].spines.values():\n",
    "    spine.set_visible(False)\n",
    "\n",
    "for spine in axs[2,0].spines.values():\n",
    "    spine.set_visible(False)\n",
    "    \n",
    "for spine in axs[0,1].spines.values():\n",
    "    spine.set_visible(False)\n",
    "    \n",
    "#Saving Dashboard as Image\n",
    "plt.savefig(\"Netflix Dashboard.png\", bbox_inches='tight')\n",
    "plt.show()\n"
   ]
  },
  {
   "cell_type": "markdown",
   "id": "d7c87242",
   "metadata": {},
   "source": [
    "### Insights Generated"
   ]
  },
  {
   "cell_type": "markdown",
   "id": "00713e85",
   "metadata": {},
   "source": [
    "1. TV Shows on Netflix Are Increasing Rapidly\n",
    "   The number of TV shows released has grown steadily over the years, especially after 2015.\n",
    "   A significant spike occurred around 2020, likely influenced by the COVID-19 pandemic, which gave people more time at home    and increased demand for entertainment content.\n",
    "   \n",
    "\n",
    "2. United States Dominates Movie Production\n",
    "   Holywood leads by a wide margin, producing over 1,800 movies.\n",
    "   India follows with over 850 Bollywood movies produced, while other countries contribute far less.\n",
    "   \n",
    "\n",
    "3. Action Is the Most Popular Genre of the 1990s\n",
    "   Action tops the list with 48 titles, followed by Dramas and Comedies.\n",
    "   Classic Movies and Children genres lag behind with only 15 titles each.\n",
    "\n",
    "\n",
    "4. Frequent Cast Members Are Primarily Bollywood Actors\n",
    "   Anupam Kher is the most frequent cast member in Netflix's 90s content, appearing in 41 titles.\n",
    "   Other top names include Shah Rukh Khan, Om Puri, and Akshay Kumar, suggesting strong Indian content representation.\n",
    "\n",
    "\n",
    "5. Action Movies Tend to Be Slightly Longer Than Dramas\n",
    "   Median and spread of durations show Action movies are generally longer, though both genres have overlapping ranges.\n",
    "   \n",
    "\n",
    "6. Fluctuating Trends in Movie Durations Through the 1990s\n",
    "   Action and Comedy movie durations varied year by year.\n",
    "   Action movies were consistently longer, with peaks around 1993 and 1995, while Comedy movies remained shorter and more stable."
   ]
  },
  {
   "cell_type": "code",
   "execution_count": null,
   "id": "d60a9a1d",
   "metadata": {},
   "outputs": [],
   "source": []
  }
 ],
 "metadata": {
  "colab": {
   "provenance": [
    {
     "file_id": "1hvNCX-h8guCD37_mBOJrNV4AHjLs8uD8",
     "timestamp": 1748881366234
    }
   ]
  },
  "kernelspec": {
   "display_name": "Python 3 (ipykernel)",
   "language": "python",
   "name": "python3"
  },
  "language_info": {
   "codemirror_mode": {
    "name": "ipython",
    "version": 3
   },
   "file_extension": ".py",
   "mimetype": "text/x-python",
   "name": "python",
   "nbconvert_exporter": "python",
   "pygments_lexer": "ipython3",
   "version": "3.11.5"
  }
 },
 "nbformat": 4,
 "nbformat_minor": 5
}
